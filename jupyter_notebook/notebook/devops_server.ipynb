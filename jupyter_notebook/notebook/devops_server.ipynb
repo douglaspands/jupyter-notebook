{
 "cells": [
  {
   "cell_type": "markdown",
   "metadata": {},
   "source": [
    "# DEVOPS SERVER"
   ]
  },
  {
   "cell_type": "markdown",
   "metadata": {},
   "source": [
    "Comandos que serão utilizados no servidor de DEVOPS."
   ]
  },
  {
   "cell_type": "markdown",
   "metadata": {},
   "source": [
    "## Configuração Inicial"
   ]
  },
  {
   "cell_type": "code",
   "execution_count": 2,
   "metadata": {
    "ExecuteTime": {
     "end_time": "2020-09-19T07:15:44.238629Z",
     "start_time": "2020-09-19T07:15:44.207467Z"
    },
    "tags": [
     "#config"
    ]
   },
   "outputs": [],
   "source": [
    "import os\n",
    "FILE_DIR = os.path.abspath('../../files')"
   ]
  },
  {
   "cell_type": "markdown",
   "metadata": {},
   "source": [
    "## Tabelas"
   ]
  },
  {
   "cell_type": "code",
   "execution_count": 3,
   "metadata": {
    "ExecuteTime": {
     "end_time": "2020-09-19T07:15:44.407964Z",
     "start_time": "2020-09-19T07:15:44.238629Z"
    },
    "tags": [
     "#tabelas",
     "=>config"
    ]
   },
   "outputs": [],
   "source": [
    "import os\n",
    "from datetime import datetime\n",
    "from pony import orm\n",
    "\n",
    "db = orm.Database()\n",
    "\n",
    "class Tarefa(db.Entity):\n",
    "    id = orm.PrimaryKey(int, auto=True)\n",
    "    titulo = orm.Required(str, index=True)\n",
    "    detalhe = orm.Optional(str, index=True, nullable=True)\n",
    "    situacao = orm.Required('Situacao', index=True)\n",
    "    datahora_criacao = orm.Required(datetime, index=True)\n",
    "    datahora_inicio = orm.Optional(datetime, index=True, nullable=True)\n",
    "    datahora_fim = orm.Optional(datetime, index=True, nullable=True)\n",
    "    comandos = orm.Set('Comando')\n",
    "\n",
    "class Situacao(db.Entity):\n",
    "    id = orm.PrimaryKey(int)\n",
    "    descricao = orm.Required(str)\n",
    "    \n",
    "class Comando(db.Entity):\n",
    "    id = orm.PrimaryKey(int, auto=True)\n",
    "    tarefa = orm.Required(Tarefa, index=True)\n",
    "    orm.composite_key(id, tarefa)\n",
    "    comando = orm.Required(str)\n",
    "    resultados = orm.Set('Resultado')\n",
    "    datahora_inicio = orm.Optional(datetime, index=True, nullable=True)\n",
    "    datahora_fim = orm.Optional(datetime, index=True, nullable=True)\n",
    "    \n",
    "class Resultado(db.Entity):\n",
    "    id = orm.PrimaryKey(int, auto=True)\n",
    "    comando = orm.Required(Comando, index=True)\n",
    "    orm.composite_key(id, comando)\n",
    "    resultado_sucesso = orm.Optional(str, nullable=True)\n",
    "    resultado_erro = orm.Optional(str, nullable=True)\n",
    "\n",
    "db.bind(provider='sqlite', filename=os.path.join(FILE_DIR, f'devops_tarefas.sqlite'), create_db=True)\n",
    "db.generate_mapping(create_tables=True)"
   ]
  },
  {
   "cell_type": "code",
   "execution_count": 6,
   "metadata": {
    "ExecuteTime": {
     "end_time": "2020-09-19T07:10:35.216852Z",
     "start_time": "2020-09-19T07:10:35.179166Z"
    }
   },
   "outputs": [],
   "source": [
    "with orm.db_session:\n",
    "    Situacao(id=1, descricao='criado')\n",
    "    Situacao(id=2, descricao='iniciado')\n",
    "    Situacao(id=3, descricao='finalizado')\n",
    "    Situacao(id=4, descricao='cancelado')\n",
    "    orm.commit()\n"
   ]
  },
  {
   "cell_type": "markdown",
   "metadata": {},
   "source": [
    "## Console stream"
   ]
  },
  {
   "cell_type": "code",
   "execution_count": 7,
   "metadata": {
    "ExecuteTime": {
     "end_time": "2020-09-19T07:15:52.590173Z",
     "start_time": "2020-09-19T07:15:52.559035Z"
    },
    "tags": [
     "#shell"
    ]
   },
   "outputs": [],
   "source": [
    "import os\n",
    "import platform\n",
    "import re\n",
    "import subprocess\n",
    "from datetime import datetime\n",
    "from pony import orm\n",
    "\n",
    "if platform.system() == 'Windows':\n",
    "    os.environ['COMSPEC'] = 'powershell'\n",
    "    encoding = 'utf-8'\n",
    "else:\n",
    "    encoding = 'utf-8'\n",
    "encoding_error = 'replace' # 'ignore'\n",
    "\n",
    "REGEX_PULAR_LINHA_1 = re.compile(r'[\\r\\n]')\n",
    "REGEX_PULAR_LINHA_2 = re.compile(r'[\\r]')\n",
    "\n",
    "@orm.db_session\n",
    "def shell_executar(id_: int) -> True:\n",
    "    tarefa_comando = Comando[id_]\n",
    "    tarefa_comando.datahora_inicio = datetime.now()\n",
    "    orm.commit()\n",
    "    \n",
    "    situacao_execucao = True\n",
    "    cmd = tarefa_comando.comando.split(' ')\n",
    "    proc = subprocess.Popen(cmd, stdout=subprocess.PIPE, stderr=subprocess.PIPE, shell=True)\n",
    "    for line in proc.stdout.readlines():\n",
    "        Resultado(\n",
    "                comando=Comando[id_],\n",
    "                resultado_sucesso=REGEX_PULAR_LINHA_1.sub('', line.decode(encoding, encoding_error))\n",
    "        )\n",
    "    \n",
    "    error = REGEX_PULAR_LINHA_2.sub('', proc.stderr.read().decode(encoding, encoding_error))\n",
    "    if error:\n",
    "        Resultado(\n",
    "                comando=Comando[id_],\n",
    "                resultado_erro=error\n",
    "        )\n",
    "        situacao_execucao = False\n",
    "    \n",
    "    tarefa_comando = Comando[id_]\n",
    "    tarefa_comando.datahora_fim = datetime.now()\n",
    "    \n",
    "    return situacao_execucao\n"
   ]
  },
  {
   "cell_type": "markdown",
   "metadata": {},
   "source": [
    "## Fila e Thread"
   ]
  },
  {
   "cell_type": "code",
   "execution_count": 8,
   "metadata": {
    "ExecuteTime": {
     "end_time": "2020-09-19T07:15:52.612337Z",
     "start_time": "2020-09-19T07:15:52.590173Z"
    },
    "tags": [
     "#fila_thread",
     "=>shell"
    ]
   },
   "outputs": [],
   "source": [
    "from datetime import datetime\n",
    "from queue import Queue\n",
    "from time import sleep\n",
    "from pony import orm\n",
    "\n",
    "@orm.db_session\n",
    "def processar_fila(fila: Queue) -> None:\n",
    "    tempo_espera = 1\n",
    "    tempo_maximo = 5\n",
    "    tempo_acrescimo = 0.5\n",
    "    \n",
    "    while True:\n",
    "        \n",
    "        if fila.empty():\n",
    "            sleep(tempo_espera)\n",
    "            tempo_espera = tempo_espera + tempo_acrescimo if tempo_espera < tempo_maximo else tempo_espera\n",
    "            continue\n",
    "        \n",
    "        else:\n",
    "            tempo_espera = 1\n",
    "        \n",
    "        id_ = fila.get()\n",
    "        tarefa = Tarefa[id_]\n",
    "        tarefa.situacao = Situacao[2]\n",
    "        tarefa.datahora_inicio = datetime.now()\n",
    "        orm.commit()\n",
    "\n",
    "        ultimo_retorno = True\n",
    "        lista_comandos = Comando.select(lambda c: c.tarefa == Tarefa[id_]).order_by(Comando.id)\n",
    "        for comando in lista_comandos:\n",
    "            ultimo_retorno = shell_executar(comando.id)\n",
    "        \n",
    "        tarefa = Tarefa[id_]\n",
    "        tarefa.situacao = Situacao[3] if ultimo_retorno is True else Situacao[4]\n",
    "        tarefa.datahora_fim = datetime.now()\n",
    "        orm.commit()\n"
   ]
  },
  {
   "cell_type": "code",
   "execution_count": 9,
   "metadata": {
    "ExecuteTime": {
     "end_time": "2020-09-19T07:15:52.627965Z",
     "start_time": "2020-09-19T07:15:52.612337Z"
    },
    "tags": [
     "=>fila_thread"
    ]
   },
   "outputs": [],
   "source": [
    "from queue import Queue\n",
    "from threading import Thread\n",
    "\n",
    "fila_tarefas = Queue()\n",
    "fila_tarefas.queue.clear()\n",
    "\n",
    "thread1 = Thread(target=processar_fila, args=(fila_tarefas,), daemon=True)\n",
    "thread1.start()\n"
   ]
  },
  {
   "cell_type": "markdown",
   "metadata": {},
   "source": [
    "## Inclusão de tarefas com comandos"
   ]
  },
  {
   "cell_type": "code",
   "execution_count": 13,
   "metadata": {
    "ExecuteTime": {
     "end_time": "2020-09-19T07:16:10.585128Z",
     "start_time": "2020-09-19T07:16:10.553968Z"
    },
    "tags": [
     "#inclusao_tarefas"
    ]
   },
   "outputs": [],
   "source": [
    "from datetime import datetime\n",
    "from typing import Any, List\n",
    "from pony import orm\n",
    "\n",
    "@orm.db_session\n",
    "def execucao_comandos(titulo: str, lista_comando: List[str], **kwargs: Any) -> int:\n",
    "    tarefa = Tarefa(\n",
    "        titulo=titulo,\n",
    "        detalhe=kwargs.get('detalhe'),\n",
    "        situacao=Situacao[1],\n",
    "        datahora_criacao=datetime.now()\n",
    "    )\n",
    "    for comando in lista_comando:\n",
    "        Comando(\n",
    "            tarefa=tarefa,\n",
    "            comando=comando\n",
    "        )\n",
    "    orm.commit()\n",
    "    id_ = tarefa.id\n",
    "    fila_tarefas.put(id_)\n",
    "    return id_\n"
   ]
  },
  {
   "cell_type": "markdown",
   "metadata": {},
   "source": [
    "### Execução com sucesso"
   ]
  },
  {
   "cell_type": "code",
   "execution_count": 12,
   "metadata": {
    "ExecuteTime": {
     "end_time": "2020-09-19T07:16:02.524093Z",
     "start_time": "2020-09-19T07:15:57.460997Z"
    },
    "tags": [
     "=>inclusao_tarefas"
    ]
   },
   "outputs": [
    {
     "name": "stdout",
     "output_type": "stream",
     "text": [
      "\n",
      "\n",
      "Diret�rio: C:\\Users\\Ape11\\workspace\n",
      "\n",
      "\n",
      "Mode                 LastWriteTime         Length Name\n",
      "----                 -------------         ------ ----\n",
      "d-----        09/09/2020     11:54                ape11-notebook\n",
      "d-----        18/09/2020     17:56                aut-api-bff\n",
      "d-----        04/09/2020     13:43                bof-web-corretor\n",
      "d-----        09/09/2020     11:06                cdc-postgres\n",
      "d-----        10/09/2020     11:28                cnt-api-bff\n",
      "d-----        18/09/2020     14:02                cnt-colocarLogoFoto\n",
      "d-----        29/07/2020     09:44                cnt-job-publicar-imoveis-portais\n",
      "d-----        10/08/2020     11:53                cnt-job-solicitar_prospeccao\n",
      "d-----        29/05/2020     15:29                cnt-melhorarFoto\n",
      "d-----        05/07/2020     11:35                cnt-solicitar-documentos\n",
      "d-----        09/09/2020     15:38                cnt-verifaFotos\n",
      "d-----        18/09/2020     13:56                crm-api-bff\n",
      "d-----        28/05/2020     18:04                crm-api-mensageria-externa\n",
      "d-----        11/05/2020     14:54                crm-api-postgres\n",
      "d-----        02/07/2020     18:53                crm-exato-recepcionar-docs-vendedor-imovel\n",
      "d-----        17/07/2020     12:48                crm-job-atualizaView\n",
      "d-----        28/08/2020     17:10                crm-job-notificacao-corretor-pendencias\n",
      "d-----        03/06/2020     15:06                crm-job-notificacao-desempenho-vendas\n",
      "d-----        28/08/2020     18:13                crm-job-notificacao-imoveis-novos\n",
      "d-----        17/09/2020     11:15                crm-job-orulo-empreendimentos\n",
      "d-----        01/07/2020     19:13                crm-job-orulo-integracao-wordpress\n",
      "d-----        30/04/2020     15:38                crm-job-verificaCalendario\n",
      "d-----        17/09/2020     15:59                crm-job-wordpress-page-views\n",
      "d-----        18/08/2020     17:44                crm-processar-email-envio\n",
      "d-----        01/09/2020     10:03                crm-processar-email-tracking\n",
      "d-----        31/08/2020     10:18                crm-processar-notificacao-negociacao-iniciada\n",
      "d-----        20/08/2020     18:27                crm-processar-notificacao-novo-cliente-corretor\n",
      "d-----        10/07/2020     19:32                crm-processar-notificacao-proposta-formalizada\n",
      "d-----        20/08/2020     15:44                crm-processar-visita-avaliacao\n",
      "d-----        11/08/2020     15:18                crm-processar-visita-comprador\n",
      "d-----        29/04/2020     11:20                crm-promoverLead\n",
      "d-----        12/05/2020     16:24                dump\n",
      "d-----        04/09/2020     13:26                ext-api-bff\n",
      "d-----        18/09/2020     17:42                ger-backoffice-portal\n",
      "d-----        28/04/2020     14:48                ger-scheduler-backend\n",
      "da----        24/04/2020     09:11                graphql-playground\n",
      "d-----        24/08/2020     15:12                imv-api-bff\n",
      "d-----        22/05/2020     15:59                imv-crawler-vivareal\n",
      "d-----        02/09/2020     09:55                infra-devops-apps\n",
      "d-----        18/09/2020     11:41                infra-devops-server\n",
      "da----        04/09/2020     19:01                jupyter-notebook\n",
      "da----        24/04/2020     09:11                keys\n",
      "d-----        19/09/2020     01:26                lab\n",
      "d-----        18/09/2020     19:24                lea-job-facebook-lead-integration\n",
      "d-----        02/09/2020     10:15                modules-shared\n",
      "d-----        19/08/2020     09:20                scripts\n",
      "d-----        04/05/2020     10:08                services\n",
      "d-----        28/08/2020     17:33                temp\n",
      "d-----        17/09/2020     15:16                ter-api-bff\n",
      "d-----        21/05/2020     12:43                wordpress-config\n",
      "d-----        17/08/2020     15:26                wordpress-site\n",
      "d-----        12/08/2020     16:51                wordpress-theme\n",
      "d-----        12/08/2020     14:12                wpr-executar-tarefa\n",
      "-a----        28/04/2020     16:08            266 search.txt\n",
      "-a----        28/04/2020     16:07          10529 search_examplecom.txt\n",
      "-a----        28/04/2020     16:09            266 search_instance_identity_document.txt\n",
      "-a----        05/05/2020     12:40            122 tarefas.txt\n",
      "\n",
      "\n"
     ]
    }
   ],
   "source": [
    "import time\n",
    "from pony import orm\n",
    "\n",
    "lista_comandos = [\n",
    "    r'cd C:\\Users\\Ape11\\workspace; ls'\n",
    "]\n",
    "\n",
    "id_ = execucao_comandos('listando diretorio', lista_comandos)\n",
    "with orm.db_session:\n",
    "    time.sleep(5)\n",
    "    lc = Comando.select(lambda t: t.tarefa==Tarefa[id_]).order_by(Comando.id)\n",
    "    for c in lc:\n",
    "        lr = Resultado.select(lambda r: r.comando==c).order_by(Resultado.id)\n",
    "        for r in lr:\n",
    "            mensagem = r.resultado_sucesso or r.resultado_erro or ''\n",
    "            print(mensagem)\n"
   ]
  },
  {
   "cell_type": "markdown",
   "metadata": {},
   "source": [
    "### Execução com erro"
   ]
  },
  {
   "cell_type": "code",
   "execution_count": 14,
   "metadata": {
    "ExecuteTime": {
     "end_time": "2020-09-19T07:16:15.659064Z",
     "start_time": "2020-09-19T07:16:10.585128Z"
    },
    "tags": [
     "=>inclusao_tarefas"
    ]
   },
   "outputs": [
    {
     "name": "stdout",
     "output_type": "stream",
     "text": [
      ">> Finalizado com sucesso!\n",
      ">> num: 31\n",
      "Traceback (most recent call last):\n",
      "  File \"C:/Users/Ape11/workspace/lab/error.py\", line 5, in <module>\n",
      "    raise Exception('erro')\n",
      "Exception: erro\n"
     ]
    }
   ],
   "source": [
    "import time\n",
    "from pony import orm\n",
    "\n",
    "lista_comandos = [\n",
    "    r'python C:/Users/Ape11/workspace/lab/ok.py',\n",
    "    r'python C:/Users/Ape11/workspace/lab/error.py'\n",
    "]\n",
    "\n",
    "id_ = execucao_comandos('listando diretorio', lista_comandos)\n",
    "with orm.db_session:\n",
    "    time.sleep(5)\n",
    "    lc = Comando.select(lambda t: t.tarefa==Tarefa[id_]).order_by(Comando.id)\n",
    "    for c in lc:\n",
    "        lr = Resultado.select(lambda r: r.comando==c).order_by(Resultado.id)\n",
    "        for r in lr:\n",
    "            mensagem = r.resultado_sucesso or r.resultado_erro or ''\n",
    "            print(mensagem)\n"
   ]
  }
 ],
 "metadata": {
  "celltoolbar": "Tags",
  "hide_input": false,
  "kernelspec": {
   "display_name": "Python 3",
   "language": "python",
   "name": "python3"
  },
  "language_info": {
   "codemirror_mode": {
    "name": "ipython",
    "version": 3
   },
   "file_extension": ".py",
   "mimetype": "text/x-python",
   "name": "python",
   "nbconvert_exporter": "python",
   "pygments_lexer": "ipython3",
   "version": "3.6.8"
  },
  "toc": {
   "base_numbering": 1,
   "nav_menu": {},
   "number_sections": true,
   "sideBar": true,
   "skip_h1_title": false,
   "title_cell": "Table of Contents",
   "title_sidebar": "Contents",
   "toc_cell": false,
   "toc_position": {},
   "toc_section_display": true,
   "toc_window_display": true
  },
  "varInspector": {
   "cols": {
    "lenName": 16,
    "lenType": 16,
    "lenVar": 40
   },
   "kernels_config": {
    "python": {
     "delete_cmd_postfix": "",
     "delete_cmd_prefix": "del ",
     "library": "var_list.py",
     "varRefreshCmd": "print(var_dic_list())"
    },
    "r": {
     "delete_cmd_postfix": ") ",
     "delete_cmd_prefix": "rm(",
     "library": "var_list.r",
     "varRefreshCmd": "cat(var_dic_list()) "
    }
   },
   "types_to_exclude": [
    "module",
    "function",
    "builtin_function_or_method",
    "instance",
    "_Feature"
   ],
   "window_display": false
  }
 },
 "nbformat": 4,
 "nbformat_minor": 4
}
