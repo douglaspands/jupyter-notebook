{
 "cells": [
  {
   "cell_type": "markdown",
   "metadata": {},
   "source": [
    "# Whatsapp - Chatbot"
   ]
  },
  {
   "cell_type": "markdown",
   "metadata": {},
   "source": [
    "## Setup"
   ]
  },
  {
   "cell_type": "code",
   "execution_count": 1,
   "metadata": {
    "ExecuteTime": {
     "end_time": "2020-09-04T23:02:30.419718Z",
     "start_time": "2020-09-04T23:02:30.408723Z"
    },
    "tags": [
     "#setup"
    ]
   },
   "outputs": [],
   "source": [
    "import os, sys, platform\n",
    "sys.path.insert(0, os.path.abspath('../src'))\n",
    "os.environ['AMBIENTE'] = 'prd'\n",
    "if platform.system() == 'Windows':\n",
    "    os.environ['COMSPEC'] = 'powershell'\n"
   ]
  },
  {
   "cell_type": "markdown",
   "metadata": {},
   "source": [
    "## Processar"
   ]
  },
  {
   "cell_type": "markdown",
   "metadata": {},
   "source": [
    "### Whatsapp - WebDriver"
   ]
  },
  {
   "cell_type": "code",
   "execution_count": 2,
   "metadata": {
    "ExecuteTime": {
     "end_time": "2020-09-04T23:02:37.433754Z",
     "start_time": "2020-09-04T23:02:30.423724Z"
    },
    "tags": [
     "=>setup"
    ]
   },
   "outputs": [],
   "source": [
    "from jmodules.webdriver.firefox import WebDriverFirefox\n",
    "\n",
    "webdriver = WebDriverFirefox(False, 3).webdriver\n"
   ]
  },
  {
   "cell_type": "markdown",
   "metadata": {},
   "source": [
    "### Whatsapp - Funções"
   ]
  },
  {
   "cell_type": "code",
   "execution_count": 263,
   "metadata": {
    "ExecuteTime": {
     "end_time": "2020-09-05T00:06:08.673629Z",
     "start_time": "2020-09-05T00:06:08.660659Z"
    },
    "tags": [
     "#whatsapp_funcoes"
    ]
   },
   "outputs": [],
   "source": [
    "from typing import List\n",
    "\n",
    "\n",
    "def acessar_whatsapp_web():\n",
    "    webdriver.get('https://web.whatsapp.com/')\n",
    "    \n",
    "def listar_contatos() -> List[str]:\n",
    "    lista_elementos = webdriver.find_elements_by_xpath('//span[@dir and @title]')\n",
    "    return [elemento.text for elemento in lista_elementos]\n",
    "\n",
    "def clicar_contato(nome: str):\n",
    "    elemento = webdriver.find_element_by_xpath(f'//span[@dir and @title=\"{nome}\"]')\n",
    "    if elemento:\n",
    "        elemento.click()\n",
    "    return elemento\n",
    "\n",
    "def enviar_mensagem(nome: str, mensagem: str):\n",
    "    clicar_contato(nome)\n",
    "    grupo_1 = webdriver.find_element_by_xpath('//footer[@class=\"_2vJ01\"]')\n",
    "    grupo_2 = grupo_1.find_element_by_xpath('//div[@class=\"_3uMse\"]')\n",
    "    grupo_2.click()\n",
    "    grupo_3 = grupo_2.find_element_by_class_name('_3FRCZ')\n",
    "    for caracter in mensagem:\n",
    "        grupo_3.send_keys(caracter)\n",
    "#     grupo_3.send_keys(mensagem)\n",
    "    botao_enviar = grupo_1.find_element_by_xpath('//div[@class=\"_1JNuk\"]/button')\n",
    "    botao_enviar.click()\n"
   ]
  },
  {
   "cell_type": "markdown",
   "metadata": {},
   "source": [
    "### Comandos"
   ]
  },
  {
   "cell_type": "markdown",
   "metadata": {},
   "source": [
    "#### Listar Contatos"
   ]
  },
  {
   "cell_type": "code",
   "execution_count": 251,
   "metadata": {
    "ExecuteTime": {
     "end_time": "2020-09-05T00:02:24.195511Z",
     "start_time": "2020-09-05T00:02:23.973067Z"
    }
   },
   "outputs": [
    {
     "data": {
      "text/plain": [
       "['Anne Carolinne',\n",
       " '+55 11 96922-3615',\n",
       " 'Vinícius (Barbearia)',\n",
       " 'Silmara Panhota',\n",
       " 'Gislaine Coelho',\n",
       " 'Alessandra Cassia Da Silva',\n",
       " 'Gislaine Coelho',\n",
       " 'Valdir Miranda',\n",
       " 'Luana (Apê11)',\n",
       " 'Luiz Anselmo da Silva',\n",
       " 'Gislaine Coelho',\n",
       " 'Cristina (Apê 11)',\n",
       " 'Barriguinha mole',\n",
       " 'Nerdices (política)',\n",
       " 'Rita Silva',\n",
       " 'Meetup Tec',\n",
       " 'Marcia (Allegrini)',\n",
       " 'Nerdices (política)',\n",
       " '']"
      ]
     },
     "execution_count": 251,
     "metadata": {},
     "output_type": "execute_result"
    }
   ],
   "source": [
    "listar_contatos()"
   ]
  },
  {
   "cell_type": "markdown",
   "metadata": {},
   "source": [
    "#### Enviar Mensagem"
   ]
  },
  {
   "cell_type": "code",
   "execution_count": 258,
   "metadata": {
    "ExecuteTime": {
     "end_time": "2020-09-05T00:04:04.475976Z",
     "start_time": "2020-09-05T00:04:03.611655Z"
    },
    "tags": [
     "=>whatsapp_funcoes"
    ]
   },
   "outputs": [],
   "source": [
    "# acessar_whatsapp_web()\n",
    "# contatos = listar_contatos()\n",
    "# clicar_contato('Anne Carolinne')\n",
    "enviar_mensagem('Anne Carolinne', 'Oi')"
   ]
  },
  {
   "cell_type": "code",
   "execution_count": 264,
   "metadata": {
    "ExecuteTime": {
     "end_time": "2020-09-05T00:06:28.824720Z",
     "start_time": "2020-09-05T00:06:14.597930Z"
    }
   },
   "outputs": [],
   "source": [
    "for caracter in 'TE AMO MINHA CREMOSA'.replace(' ', ''):\n",
    "    enviar_mensagem('Anne Carolinne', caracter)"
   ]
  },
  {
   "cell_type": "code",
   "execution_count": 36,
   "metadata": {
    "ExecuteTime": {
     "end_time": "2020-09-04T22:43:37.840169Z",
     "start_time": "2020-09-04T22:43:37.828146Z"
    }
   },
   "outputs": [
    {
     "data": {
      "text/plain": [
       "['Anne Carolinne',\n",
       " 'Vinícius (Barbearia)',\n",
       " 'Silmara Panhota',\n",
       " 'Gislaine Coelho',\n",
       " 'Alessandra Cassia Da Silva',\n",
       " 'Gislaine Coelho',\n",
       " 'Valdir Miranda',\n",
       " 'Luana (Apê11)',\n",
       " 'Luiz Anselmo da Silva',\n",
       " 'Gislaine Coelho',\n",
       " 'Cristina (Apê 11)',\n",
       " 'Barriguinha mole',\n",
       " 'Rita Silva',\n",
       " 'Nerdices (política)',\n",
       " 'Meetup Tec',\n",
       " 'Rita Silva']"
      ]
     },
     "execution_count": 36,
     "metadata": {},
     "output_type": "execute_result"
    }
   ],
   "source": [
    "contatos"
   ]
  }
 ],
 "metadata": {
  "celltoolbar": "Tags",
  "hide_input": false,
  "kernelspec": {
   "display_name": "Python 3",
   "language": "python",
   "name": "python3"
  },
  "language_info": {
   "codemirror_mode": {
    "name": "ipython",
    "version": 3
   },
   "file_extension": ".py",
   "mimetype": "text/x-python",
   "name": "python",
   "nbconvert_exporter": "python",
   "pygments_lexer": "ipython3",
   "version": "3.6.8"
  },
  "toc": {
   "base_numbering": 1,
   "nav_menu": {},
   "number_sections": true,
   "sideBar": true,
   "skip_h1_title": false,
   "title_cell": "Table of Contents",
   "title_sidebar": "Contents",
   "toc_cell": false,
   "toc_position": {},
   "toc_section_display": true,
   "toc_window_display": false
  },
  "varInspector": {
   "cols": {
    "lenName": 16,
    "lenType": 16,
    "lenVar": 40
   },
   "kernels_config": {
    "python": {
     "delete_cmd_postfix": "",
     "delete_cmd_prefix": "del ",
     "library": "var_list.py",
     "varRefreshCmd": "print(var_dic_list())"
    },
    "r": {
     "delete_cmd_postfix": ") ",
     "delete_cmd_prefix": "rm(",
     "library": "var_list.r",
     "varRefreshCmd": "cat(var_dic_list()) "
    }
   },
   "types_to_exclude": [
    "module",
    "function",
    "builtin_function_or_method",
    "instance",
    "_Feature"
   ],
   "window_display": false
  }
 },
 "nbformat": 4,
 "nbformat_minor": 4
}
