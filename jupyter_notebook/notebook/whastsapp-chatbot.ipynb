{
 "cells": [
  {
   "cell_type": "markdown",
   "metadata": {},
   "source": [
    "# Whatsapp - Chatbot"
   ]
  },
  {
   "cell_type": "markdown",
   "metadata": {},
   "source": [
    "Controlar o Whatsapp Web via Python + Selenium + Firefox.\n",
    "\n",
    "**Selenium Navegação**   \n",
    "\n",
    "[Selenium Navigating](https://selenium-python.readthedocs.io/navigating.html)\n"
   ]
  },
  {
   "cell_type": "markdown",
   "metadata": {},
   "source": [
    "## Setup"
   ]
  },
  {
   "cell_type": "code",
   "execution_count": 47,
   "metadata": {
    "ExecuteTime": {
     "end_time": "2020-09-06T01:33:13.456091Z",
     "start_time": "2020-09-06T01:33:13.436090Z"
    },
    "tags": [
     "#setup"
    ]
   },
   "outputs": [],
   "source": [
    "import os, sys, platform\n",
    "sys.path.append(os.path.abspath('../src'))\n",
    "if platform.system() == 'Windows':\n",
    "    os.environ['COMSPEC'] = 'powershell'\n",
    "FILE_DIR = os.path.abspath(os.path.join(os.getcwd(), '..', 'files'))"
   ]
  },
  {
   "cell_type": "markdown",
   "metadata": {},
   "source": [
    "## Whatsapp WebDriver"
   ]
  },
  {
   "cell_type": "code",
   "execution_count": 249,
   "metadata": {
    "ExecuteTime": {
     "end_time": "2020-09-06T04:03:41.689749Z",
     "start_time": "2020-09-06T04:03:41.685090Z"
    }
   },
   "outputs": [],
   "source": [
    "lista_contatos_externa = []"
   ]
  },
  {
   "cell_type": "code",
   "execution_count": 265,
   "metadata": {
    "ExecuteTime": {
     "end_time": "2020-09-06T04:09:30.516386Z",
     "start_time": "2020-09-06T04:09:30.472382Z"
    },
    "tags": [
     "#whatsapp_webdriver"
    ]
   },
   "outputs": [],
   "source": [
    "import base64\n",
    "import re\n",
    "import time\n",
    "from typing import Dict, List, Union, Optional\n",
    "\n",
    "\n",
    "class WhatsAppWebDriver:\n",
    "    \n",
    "    def __init__(self, webdriver):\n",
    "        self.webdriver = webdriver\n",
    "#         self._lista_contatos = []\n",
    "        self._lista_contatos = lista_contatos_externa\n",
    "    \n",
    "    def acessar_site(self):\n",
    "        whatsapp_url = 'https://web.whatsapp.com'\n",
    "        if whatsapp_url not in self.webdriver.current_url:\n",
    "            self.webdriver.get(whatsapp_url)\n",
    "\n",
    "    def precisa_sincronizar(self) -> bool:\n",
    "        if 'Para usar o WhatsApp no seu computador' in self.webdriver.page_source:\n",
    "            return True\n",
    "        else:\n",
    "            return False\n",
    "        \n",
    "    def capturar_qrcode(self):\n",
    "        self.recarregar_qrcode()\n",
    "        canvas = self.webdriver.find_element_by_tag_name('canvas')\n",
    "        canvas_base64 = self.webdriver.execute_script(\"return arguments[0].toDataURL('image/png').substring(21);\", canvas)\n",
    "        return f'data:image/png;base64{canvas_base64}\"'\n",
    "\n",
    "    def recarregar_qrcode(self):\n",
    "        self.webdriver.find_element_by_class_name('_2nIZM').click()\n",
    "\n",
    "    def carregar_listar_contatos(self) -> bool:\n",
    "        self.__capturar_contatos()\n",
    "        return True\n",
    "        \n",
    "    @property\n",
    "    def listar_contatos(self) -> List[str]:\n",
    "        lista_contatos = self._lista_contatos\n",
    "        return [contato.get('nome').strip() for contato in lista_contatos]\n",
    "    \n",
    "    def listar_contatos_e_telefones(self) -> List[Dict[str, str]]:\n",
    "        lista_dados = []\n",
    "        lista_contatos = self.listar_contatos()\n",
    "        for nome in lista_contatos:\n",
    "            self.__comecar()\n",
    "            dado = self.contato_e_telefone(nome)\n",
    "            lista_dados.append(dado)\n",
    "        return lista_dados\n",
    "    \n",
    "    def contato_e_telefone(self, nome: str) -> Dict[str, str]:\n",
    "        try:\n",
    "            dado = {}\n",
    "            dado['nome'] = nome\n",
    "            self.clicar_contato(nome)\n",
    "            elemento = self.webdriver.find_elements_by_xpath('//div[@class=\"PVMjB\"]').pop()\n",
    "            elemento.click()\n",
    "            elemento = self.webdriver.find_elements_by_xpath('//*[@title=\"Dados do contato\"]').pop()\n",
    "            elemento.click()\n",
    "            elemento = self.webdriver.find_elements_by_xpath(f'//span[@class=\"_1X4JR\"]').pop(3)\n",
    "            dado['telefone'] = elemento.text\n",
    "            self.webdriver.find_element_by_xpath(f'//button[@class=\"t4a8o\"]')\n",
    "        except:\n",
    "            ...    \n",
    "        return dado\n",
    "    \n",
    "    def clicar_contato(self, nome: str):\n",
    "        elemento = self.webdriver.find_element_by_xpath(f'//span[@dir and @title=\"{nome}\"]')\n",
    "        if elemento:\n",
    "            elemento.click()\n",
    "        return elemento\n",
    "\n",
    "    def enviar_mensagem(self, nome: str, mensagem: str):\n",
    "        contatos = list(filter(lambda c: c.get('nome') == nome, self._lista_contatos))\n",
    "        if len(contatos) != 1:\n",
    "            raise Exception('Não foi identificado o nome do contato!')\n",
    "        self.__rolar_listar_contatos(contatos.pop().get('ordem'))\n",
    "        mensagem = mensagem.strip()\n",
    "        if not mensagem:\n",
    "            return\n",
    "        self.clicar_contato(nome)\n",
    "        grupo_1 = self.webdriver.find_element_by_xpath('//footer[@class=\"_2vJ01\"]')\n",
    "        grupo_2 = grupo_1.find_element_by_xpath('//div[@class=\"_3uMse\"]')\n",
    "        grupo_2.click()\n",
    "        grupo_3 = grupo_2.find_element_by_class_name('_3FRCZ')\n",
    "        for caracter in mensagem:\n",
    "            grupo_3.send_keys(caracter)\n",
    "        botao_enviar = grupo_1.find_element_by_xpath('//div[@class=\"_1JNuk\"]/button')\n",
    "        botao_enviar.click()\n",
    "        \n",
    "    def __comecar(self):\n",
    "        self.acessar_site()\n",
    "        try:\n",
    "            self.webdriver.find_element_by_class_name('_1MXsz').pop().click()\n",
    "        except:\n",
    "            pass\n",
    "        if self.precisa_sincronizar():\n",
    "            raise Exception('Precisar sincronizar o QRCode!')\n",
    "#         self.webdriver.execute_script('document.getElementById(\"pane-side\").scrollTo({top: 0, left: 0, behavior: \"smooth\"});')\n",
    "#         time.sleep(3)\n",
    "        self.webdriver.execute_script('document.getElementById(\"pane-side\").scrollTo({top: 0, left: 0});')\n",
    "\n",
    "    def __capturar_contatos(self) -> List[Dict[str, Union[str, int]]]:\n",
    "        global lista_contatos_externa\n",
    "        lista_contatos_temp = {}\n",
    "        \n",
    "        def capturar_contatos(webdriver):\n",
    "            lista_elementos = webdriver.find_elements_by_class_name('_210SC')\n",
    "            for elemento in lista_elementos:\n",
    "                contato = {}\n",
    "                for ec in elemento.find_elements_by_class_name('_3CneP'):\n",
    "                    contato['nome'] = ec.get_attribute('innerText')\n",
    "                    break\n",
    "                if contato.get('nome'):\n",
    "                    transform = elemento.value_of_css_property('transform')\n",
    "                    ordem = int(re.sub(r'^.+,\\s(\\d+)\\)$', r'\\1', transform))\n",
    "                    contato['ordem'] = ordem\n",
    "                    lista_contatos_temp[ordem] = contato\n",
    "\n",
    "        self.__rolar_listar_contatos()\n",
    "        capturar_contatos(self.webdriver)\n",
    "            \n",
    "        lista_keys = sorted(lista_contatos_temp.keys())\n",
    "        ultimo_contato_anterior = {}\n",
    "        ultimo_contato = lista_contatos_temp[lista_keys.pop()]\n",
    "\n",
    "        while True:\n",
    "            if ultimo_contato_anterior.get('ordem') == ultimo_contato.get('ordem'):\n",
    "                break\n",
    "            self.__rolar_listar_contatos(ultimo_contato.get('ordem') + 1)\n",
    "            capturar_contatos(self.webdriver)\n",
    "            lista_keys = sorted(lista_contatos_temp.keys())\n",
    "            ultimo_contato_anterior = ultimo_contato\n",
    "            ultimo_contato = lista_contatos_temp[lista_keys.pop()]\n",
    "    \n",
    "        self._lista_contatos = [lista_contatos_temp[key] for key in sorted(lista_contatos_temp.keys())]\n",
    "        lista_contatos_externa = self._lista_contatos\n",
    "        return self._lista_contatos\n",
    "\n",
    "    def __rolar_listar_contatos(self, ordem: Optional[int] = None):\n",
    "        ordem = ordem if ordem else 0\n",
    "        webdriver.execute_script(\"\"\"\n",
    "        document.getElementById('pane-side').scrollTo({\n",
    "          top: #top#,\n",
    "          left: 0,\n",
    "          behavior: 'smooth'\n",
    "        });\n",
    "        \"\"\".replace('#top#', str(ordem)))\n",
    "        time.sleep(1)\n"
   ]
  },
  {
   "cell_type": "markdown",
   "metadata": {},
   "source": [
    "## Desafios\n",
    "\n",
    "Executar quadro abaixo 1 vez para instanciar o navegador apenas 1 vez e não perder a instancia dele. Vai evitar de perder a sincronização do Whatsapp e o smartphone."
   ]
  },
  {
   "cell_type": "code",
   "execution_count": 48,
   "metadata": {
    "ExecuteTime": {
     "end_time": "2020-09-06T01:33:20.365507Z",
     "start_time": "2020-09-06T01:33:13.460089Z"
    },
    "tags": [
     "=>setup"
    ]
   },
   "outputs": [],
   "source": [
    "from modules.webdriver.firefox import WebDriverFirefox\n",
    "\n",
    "webdriver = WebDriverFirefox(False, 1).webdriver"
   ]
  },
  {
   "cell_type": "markdown",
   "metadata": {},
   "source": [
    "### Acessar o site do Whatsapp Web\n",
    "\n",
    "Apenas acessar o site."
   ]
  },
  {
   "cell_type": "code",
   "execution_count": 241,
   "metadata": {
    "ExecuteTime": {
     "end_time": "2020-09-06T03:59:29.518203Z",
     "start_time": "2020-09-06T03:59:29.110155Z"
    },
    "tags": [
     "=>whatsapp_webdriver"
    ]
   },
   "outputs": [],
   "source": [
    "whatsapp = WhatsAppWebDriver(webdriver)\n",
    "whatsapp.acessar_site()"
   ]
  },
  {
   "cell_type": "markdown",
   "metadata": {},
   "source": [
    "### Capturar QRCode de sincronia com Whatsapp\n",
    "\n",
    "Extrair o QRCode de sincronia do navegador com o smartphone e apresentar a imagem."
   ]
  },
  {
   "cell_type": "code",
   "execution_count": 74,
   "metadata": {
    "ExecuteTime": {
     "end_time": "2020-09-06T01:42:55.867715Z",
     "start_time": "2020-09-06T01:42:55.824686Z"
    },
    "tags": [
     "=>whatsapp_webdriver"
    ]
   },
   "outputs": [
    {
     "name": "stdout",
     "output_type": "stream",
     "text": [
      "Não é necessario sincronizar!\n"
     ]
    }
   ],
   "source": [
    "whatsapp = WhatsAppWebDriver(webdriver)\n",
    "precisa_sincronizar = whatsapp.precisa_sincronizar()\n",
    "\n",
    "if precisa_sincronizar:\n",
    "    whatsapp.recarregar_qrcode()\n",
    "    imagem_base64 = whatsapp.capturar_qrcode()\n",
    "\n",
    "    # Gerando HTML com o QRCODE para validar\n",
    "    html_qrcode = f'<html><body><img src=\"{imagem_base64}\"></body></html>'\n",
    "    with open(f'{FILE_DIR}/html_qrcode.html', 'w') as f:\n",
    "        f.write(html_qrcode)\n",
    "    os.system(f'{FILE_DIR}/html_qrcode.html')\n",
    "    print('É necessario sincronizar!')\n",
    "\n",
    "else:\n",
    "    print('Não é necessario sincronizar!')\n",
    "    "
   ]
  },
  {
   "cell_type": "markdown",
   "metadata": {},
   "source": [
    "### Listar todos os contatos\n",
    "\n",
    "Listar todos os contatos do usuario."
   ]
  },
  {
   "cell_type": "code",
   "execution_count": 252,
   "metadata": {
    "ExecuteTime": {
     "end_time": "2020-09-06T04:04:28.450760Z",
     "start_time": "2020-09-06T04:03:55.741806Z"
    },
    "tags": [
     "=>whatsapp_webdriver"
    ]
   },
   "outputs": [
    {
     "data": {
      "text/plain": [
       "['Anne Carolinne',\n",
       " 'Meetup Tec',\n",
       " 'Rafael Bombi',\n",
       " 'Silmara Panhota',\n",
       " 'Rita Silva',\n",
       " 'Luiz Anselmo da Silva',\n",
       " 'Rosemeire',\n",
       " 'Apê11',\n",
       " 'Geraldo Lima',\n",
       " 'Nerdices (política)',\n",
       " 'Barriguinha mole',\n",
       " 'Cristina (Apê 11)',\n",
       " 'Gislaine Coelho',\n",
       " 'Luana (Apê11)',\n",
       " 'Valdir Miranda',\n",
       " 'Gislaine Coelho',\n",
       " 'Alessandra Cassia Da Silva',\n",
       " 'Gislaine Coelho',\n",
       " 'Vinícius (Barbearia)',\n",
       " 'Marcia (Allegrini)',\n",
       " '+55 11 96922-3615',\n",
       " 'Cecilia Garcia Miranda',\n",
       " 'Leo (Apê11)',\n",
       " 'Salete Panhota',\n",
       " 'happy',\n",
       " 'Marcelo (Apê11)',\n",
       " 'Victor Panhota Da Silva',\n",
       " 'Vera Lucia Garcia',\n",
       " 'Cesar Augusto Euzebio',\n",
       " 'Sueli (Assistente Da Cleo Dentista)',\n",
       " 'Celia Panhota',\n",
       " 'Bruno (imóvel. aí)',\n",
       " 'Uma GFT menos Jovem',\n",
       " 'Pedro (Dentista)',\n",
       " '+55 11 4116-3753',\n",
       " 'Tadashi',\n",
       " 'Jovenildo',\n",
       " 'Rafael Manzoni',\n",
       " 'Danilo De Luna Martins',\n",
       " 'Andrios (GFT)',\n",
       " 'Papete de hugo',\n",
       " 'Bruno (GFT)',\n",
       " 'Irmandade Moto',\n",
       " 'Julio (Gerente Personalité)',\n",
       " 'Marina Marques Garcia de Miranda',\n",
       " 'Simone Panhota',\n",
       " 'Wellington Oliveira',\n",
       " 'Pedro (Rasta)',\n",
       " 'Paula Curado',\n",
       " 'Netflix',\n",
       " '+55 11 93496-7922',\n",
       " 'Roberto (Marido da Nusa)',\n",
       " '+55 11 95497-0275',\n",
       " 'Alex (GFT)',\n",
       " 'Pais de Família',\n",
       " 'Alessandro (Apê11)',\n",
       " 'ZAP imóveis Suporte',\n",
       " 'Flavio (IBM)',\n",
       " 'Ape11 - Elson Benedetti',\n",
       " 'Luis Augusto',\n",
       " 'Anderson Cavalcante',\n",
       " 'Claudio',\n",
       " 'Edson Martins',\n",
       " 'Jéssica (Prima)',\n",
       " 'Felipe Pozzibon',\n",
       " '+55 11 95020-1880',\n",
       " 'Amigos da Tammy! H',\n",
       " 'Renato (Apê11)',\n",
       " 'Samuel',\n",
       " 'Hermes Pardine',\n",
       " 'Grupo mais lindo!',\n",
       " '+55 11 93023-9070',\n",
       " '+55 11 97439-3953',\n",
       " 'Rappi',\n",
       " 'Marcia (GFT)',\n",
       " '+55 11 94102-7254',\n",
       " 'Claudia - HPE',\n",
       " 'Ester',\n",
       " 'Mary Obata',\n",
       " '+55 11 94255-5134',\n",
       " 'Juliana Camargo',\n",
       " '+55 11 94524-4282',\n",
       " 'Anderson Alves dos Santos',\n",
       " 'Caio De Carvalho Azevedo',\n",
       " 'Leticia Garcia',\n",
       " 'Moto - Role Alcir',\n",
       " 'Marcos - Corretor (Ape11)',\n",
       " '+55 11 94786-8063',\n",
       " 'Cleuza Casagrande',\n",
       " 'Celso',\n",
       " 'Jose Carlos (GFT)',\n",
       " 'Cida (Incor RI)',\n",
       " '+55 11 98883-1984',\n",
       " 'Julio (GFT)',\n",
       " '+55 11 4362-5555',\n",
       " 'Regina',\n",
       " 'Renata Pereira Sales',\n",
       " 'Família Panhota e Cia...',\n",
       " 'Natasha (Apê11)',\n",
       " 'Hilario',\n",
       " 'Ederson (Apê11)',\n",
       " 'Cleiton Oliveira',\n",
       " 'Isabel Lima - Corretora Apê11',\n",
       " 'XP Investimentos',\n",
       " 'Almoço',\n",
       " 'Paulo Neto',\n",
       " 'Qualicorp',\n",
       " 'Start New Game',\n",
       " 'Suelen Santana',\n",
       " 'Cris (Apê11)',\n",
       " 'Flavio (Itaú)',\n",
       " 'Ailton Soares Do Vale',\n",
       " '+55 11 93321-1101',\n",
       " 'Caio (Btrader)',\n",
       " 'Edmo',\n",
       " 'Stephane Panhota',\n",
       " 'Henrique Rodrigues',\n",
       " 'Vanusa',\n",
       " 'Rosi (Psicóloga)',\n",
       " 'Ricardo Placido',\n",
       " 'Vinícius Miranda (GFT)',\n",
       " 'Dr João Aires De Vasconcelos',\n",
       " 'Leandro Santiago Gutierres',\n",
       " 'Roberta Nunes Garcia',\n",
       " 'João Paulo (GFT)',\n",
       " 'Camila (HPE)',\n",
       " 'Odair (GFT)',\n",
       " 'Lucas Di Biasi',\n",
       " 'Diego Ferreira Lima',\n",
       " 'Dominic Garcia',\n",
       " 'Rogerio Alves',\n",
       " 'Roberta Garcia',\n",
       " 'Alcir',\n",
       " 'Marcos (Sogra)',\n",
       " 'Jorge Garcia',\n",
       " 'Amelia (Professora De Canto)',\n",
       " 'Rubens Obayashi',\n",
       " '+55 13 95539-1053',\n",
       " '+55 11 98155-5089',\n",
       " '+55 11 94534-4660',\n",
       " 'Leda',\n",
       " 'Luisa (Apê11)',\n",
       " 'Academia Smart Fit',\n",
       " 'Daniela Ciavatta',\n",
       " 'Nilson',\n",
       " 'Aline Garcia de Miranda',\n",
       " 'Alessandra (GFT)',\n",
       " 'Paulo Cesar Mota Jr',\n",
       " '+55 11 2455-5757',\n",
       " 'Lincoln',\n",
       " 'Luísinho (CPM)',\n",
       " 'Ape11',\n",
       " 'Fabio Regis',\n",
       " '+55 11 98260-4679',\n",
       " 'Fabiano Santos',\n",
       " 'Willian (Apê11)',\n",
       " 'Aurora',\n",
       " 'Milhoooooooes',\n",
       " 'Koga (GFT)',\n",
       " 'Próximo churras',\n",
       " 'Rogerio Leite',\n",
       " 'Marcia Lia',\n",
       " 'Vitor Hugo A. Santos (GFT)',\n",
       " 'Selvagens',\n",
       " '23/06? - HP Friends',\n",
       " 'Victor Tripeno',\n",
       " 'Andre Molero',\n",
       " 'Andrea Beltran',\n",
       " 'Vingadores By Jovem',\n",
       " 'Victor Garcia',\n",
       " 'Amigos',\n",
       " 'Vado (Pintor)',\n",
       " 'MBI - Itau',\n",
       " 'Paola Ceccaci',\n",
       " 'assunto desconhecido',\n",
       " 'Clube do Bolinha',\n",
       " 'Ricardo Placido']"
      ]
     },
     "execution_count": 252,
     "metadata": {},
     "output_type": "execute_result"
    }
   ],
   "source": [
    "whatsapp = WhatsAppWebDriver(webdriver)\n",
    "whatsapp.carregar_listar_contatos()\n",
    "whatsapp.listar_contatos"
   ]
  },
  {
   "cell_type": "markdown",
   "metadata": {},
   "source": [
    "### Enviar mensagem para um contato especifico"
   ]
  },
  {
   "cell_type": "code",
   "execution_count": 266,
   "metadata": {
    "ExecuteTime": {
     "end_time": "2020-09-06T04:09:33.285640Z",
     "start_time": "2020-09-06T04:09:30.520384Z"
    },
    "tags": [
     "=>whatsapp_webdriver"
    ]
   },
   "outputs": [],
   "source": [
    "whatsapp = WhatsAppWebDriver(webdriver)\n",
    "whatsapp.enviar_mensagem('Anne Carolinne', 'oi')"
   ]
  },
  {
   "cell_type": "markdown",
   "metadata": {},
   "source": [
    "### Mensagens em massa"
   ]
  },
  {
   "cell_type": "code",
   "execution_count": 56,
   "metadata": {
    "ExecuteTime": {
     "end_time": "2020-09-05T21:45:34.664888Z",
     "start_time": "2020-09-05T21:45:22.812294Z"
    }
   },
   "outputs": [],
   "source": [
    "lista_contatos = [\n",
    " 'Anne Carolinne',\n",
    " 'Rosemeire',\n",
    " 'Silmara Panhota',\n",
    " 'Rita Silva',\n",
    " 'Luiz Anselmo da Silva'\n",
    "]\n",
    "\n",
    "whatsapp = WhatsAppWeb(webdriver)\n",
    "\n",
    "for contato in lista_contatos:\n",
    "    whatsapp.enviar_mensagem(contato, 'Estou testando umas paradas no meu computador!')\n"
   ]
  },
  {
   "cell_type": "markdown",
   "metadata": {},
   "source": [
    "### Obter dados do contato"
   ]
  },
  {
   "cell_type": "code",
   "execution_count": 134,
   "metadata": {
    "ExecuteTime": {
     "end_time": "2020-09-05T22:41:20.270733Z",
     "start_time": "2020-09-05T22:40:24.895308Z"
    },
    "tags": [
     "=>whatsapp"
    ]
   },
   "outputs": [
    {
     "name": "stdout",
     "output_type": "stream",
     "text": [
      "[{'nome': '+55 11 96922-3615', 'telefone': '+55 11 96922-3615'}, {'nome': 'Agendamentos só chamar!'}, {'nome': 'Alessandra Cassia Da Silva', 'telefone': '+55 11 99265-8248'}, {'nome': 'Barriguinha mole'}, {'nome': 'Cecilia Garcia Miranda'}, {'nome': 'Cristina (Apê 11)', 'telefone': '+55 11 98199-2975'}, {'nome': 'Geraldo Lima', 'telefone': '+55 11 98163-1335'}, {'nome': 'Gislaine Coelho', 'telefone': '+55 11 96638-1918'}, {'nome': 'Leo (Apê11)', 'telefone': '+55 11 97504-2027'}, {'nome': 'Luana (Apê11)', 'telefone': '+55 11 98776-7177'}, {'nome': 'Marcia (Allegrini)'}, {'nome': 'Meetup Tec'}, {'nome': 'Nerdices (política)'}, {'nome': 'Salete Panhota'}, {'nome': 'Valdir Miranda', 'telefone': '+55 11 97395-0172'}, {'nome': 'Vinícius (Barbearia)', 'telefone': 'Agendamentos só chamar!'}]\n"
     ]
    }
   ],
   "source": [
    "whatsapp = WhatsAppWeb(webdriver)\n",
    "# whatsapp.listar_contatos()\n",
    "# whatsapp.enviar_mensagem('Anne Carolinne', 'Estou testando umas paradas no meu computador!')\n",
    "# whatsapp.contato_e_telefone('Rita Silva')\n",
    "print(repr(whatsapp.listar_contatos_e_telefones()))"
   ]
  },
  {
   "cell_type": "code",
   "execution_count": 82,
   "metadata": {
    "ExecuteTime": {
     "end_time": "2020-09-05T22:17:22.710643Z",
     "start_time": "2020-09-05T22:17:22.685643Z"
    }
   },
   "outputs": [
    {
     "ename": "AttributeError",
     "evalue": "'FirefoxWebElement' object has no attribute 'attribute'",
     "output_type": "error",
     "traceback": [
      "\u001b[1;31m---------------------------------------------------------------------------\u001b[0m",
      "\u001b[1;31mAttributeError\u001b[0m                            Traceback (most recent call last)",
      "\u001b[1;32m<ipython-input-82-b9b465704d57>\u001b[0m in \u001b[0;36m<module>\u001b[1;34m\u001b[0m\n\u001b[0;32m      1\u001b[0m \u001b[0melemento\u001b[0m \u001b[1;33m=\u001b[0m \u001b[0mwebdriver\u001b[0m\u001b[1;33m.\u001b[0m\u001b[0mfind_elements_by_xpath\u001b[0m\u001b[1;33m(\u001b[0m\u001b[1;34m'//div[@class=\"PVMjB\"]'\u001b[0m\u001b[1;33m)\u001b[0m\u001b[1;33m.\u001b[0m\u001b[0mpop\u001b[0m\u001b[1;33m(\u001b[0m\u001b[1;33m)\u001b[0m\u001b[1;33m\u001b[0m\u001b[1;33m\u001b[0m\u001b[0m\n\u001b[1;32m----> 2\u001b[1;33m \u001b[0melemento\u001b[0m\u001b[1;33m.\u001b[0m\u001b[0mattribute\u001b[0m\u001b[1;33m(\u001b[0m\u001b[1;34m'innerHtml'\u001b[0m\u001b[1;33m)\u001b[0m\u001b[1;33m\u001b[0m\u001b[1;33m\u001b[0m\u001b[0m\n\u001b[0m\u001b[0;32m      3\u001b[0m \u001b[1;31m# elemento.click()\u001b[0m\u001b[1;33m\u001b[0m\u001b[1;33m\u001b[0m\u001b[1;33m\u001b[0m\u001b[0m\n\u001b[0;32m      4\u001b[0m \u001b[1;31m# elemento = webdriver.find_elements_by_xpath('//*[@title=\"Dados do contato\"]').pop()\u001b[0m\u001b[1;33m\u001b[0m\u001b[1;33m\u001b[0m\u001b[1;33m\u001b[0m\u001b[0m\n\u001b[0;32m      5\u001b[0m \u001b[1;31m# elemento.click()\u001b[0m\u001b[1;33m\u001b[0m\u001b[1;33m\u001b[0m\u001b[1;33m\u001b[0m\u001b[0m\n",
      "\u001b[1;31mAttributeError\u001b[0m: 'FirefoxWebElement' object has no attribute 'attribute'"
     ]
    }
   ],
   "source": [
    "elemento = webdriver.find_elements_by_xpath('//div[@class=\"PVMjB\"]').pop()\n",
    "elemento.attribute('innerHtml')\n",
    "# elemento.click()\n",
    "# elemento = webdriver.find_elements_by_xpath('//*[@title=\"Dados do contato\"]').pop()\n",
    "# elemento.click()\n",
    "# elemento = webdriver.find_elements_by_xpath(f'//span[@class=\"_1X4JR\"]').pop(3)\n"
   ]
  }
 ],
 "metadata": {
  "celltoolbar": "Tags",
  "hide_input": false,
  "kernelspec": {
   "display_name": "Python 3",
   "language": "python",
   "name": "python3"
  },
  "language_info": {
   "codemirror_mode": {
    "name": "ipython",
    "version": 3
   },
   "file_extension": ".py",
   "mimetype": "text/x-python",
   "name": "python",
   "nbconvert_exporter": "python",
   "pygments_lexer": "ipython3",
   "version": "3.8.5"
  },
  "toc": {
   "base_numbering": 1,
   "nav_menu": {},
   "number_sections": true,
   "sideBar": true,
   "skip_h1_title": false,
   "title_cell": "Table of Contents",
   "title_sidebar": "Contents",
   "toc_cell": false,
   "toc_position": {
    "height": "calc(100% - 180px)",
    "left": "10px",
    "top": "150px",
    "width": "273.188px"
   },
   "toc_section_display": true,
   "toc_window_display": true
  },
  "varInspector": {
   "cols": {
    "lenName": 16,
    "lenType": 16,
    "lenVar": 40
   },
   "kernels_config": {
    "python": {
     "delete_cmd_postfix": "",
     "delete_cmd_prefix": "del ",
     "library": "var_list.py",
     "varRefreshCmd": "print(var_dic_list())"
    },
    "r": {
     "delete_cmd_postfix": ") ",
     "delete_cmd_prefix": "rm(",
     "library": "var_list.r",
     "varRefreshCmd": "cat(var_dic_list()) "
    }
   },
   "types_to_exclude": [
    "module",
    "function",
    "builtin_function_or_method",
    "instance",
    "_Feature"
   ],
   "window_display": false
  }
 },
 "nbformat": 4,
 "nbformat_minor": 4
}
