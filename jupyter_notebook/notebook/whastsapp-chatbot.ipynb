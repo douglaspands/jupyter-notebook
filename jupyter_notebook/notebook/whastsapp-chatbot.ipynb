{
 "cells": [
  {
   "cell_type": "markdown",
   "metadata": {},
   "source": [
    "# Whatsapp - Chatbot\n",
    "\n",
    "Controlar o Whatsapp Web via Python + Selenium + Firefox."
   ]
  },
  {
   "cell_type": "markdown",
   "metadata": {},
   "source": [
    "## Setup"
   ]
  },
  {
   "cell_type": "code",
   "execution_count": 44,
   "metadata": {
    "ExecuteTime": {
     "end_time": "2020-09-07T02:47:06.279860Z",
     "start_time": "2020-09-07T02:47:06.263865Z"
    },
    "tags": [
     "#setup"
    ]
   },
   "outputs": [],
   "source": [
    "import os, sys, platform\n",
    "sys.path.append(os.path.abspath('..'))\n",
    "if platform.system() == 'Windows':\n",
    "    os.environ['COMSPEC'] = 'powershell'\n",
    "FILE_DIR = os.path.abspath(os.path.join(os.getcwd(), '..', 'files'))"
   ]
  },
  {
   "cell_type": "markdown",
   "metadata": {},
   "source": [
    "## Banco de dados\n",
    "\n",
    "ORM para persistencia de contatos e mensagens do Whatsapp.\n",
    "\n",
    "    PonyORM + SQLite"
   ]
  },
  {
   "cell_type": "markdown",
   "metadata": {},
   "source": [
    "### Criando database"
   ]
  },
  {
   "cell_type": "code",
   "execution_count": 54,
   "metadata": {
    "ExecuteTime": {
     "end_time": "2020-09-07T02:52:49.565145Z",
     "start_time": "2020-09-07T02:52:49.557143Z"
    },
    "tags": [
     "#pony_orm"
    ]
   },
   "outputs": [],
   "source": [
    "from pony import orm\n",
    "db = orm.Database()"
   ]
  },
  {
   "cell_type": "markdown",
   "metadata": {},
   "source": [
    "### Entidades"
   ]
  },
  {
   "cell_type": "code",
   "execution_count": 55,
   "metadata": {
    "ExecuteTime": {
     "end_time": "2020-09-07T02:52:49.597145Z",
     "start_time": "2020-09-07T02:52:49.565145Z"
    },
    "tags": [
     "=>pony_orm",
     "#whatsapp_model"
    ]
   },
   "outputs": [],
   "source": [
    "class Contato(db.Entity):\n",
    "    id = orm.PrimaryKey(int, auto=True)\n",
    "    nome = orm.Required(str)\n",
    "    telefone = orm.Optional(str)\n",
    "    ordem = orm.Required(int)\n"
   ]
  },
  {
   "cell_type": "markdown",
   "metadata": {},
   "source": [
    "### Criando banco de dados e mapeando entidades"
   ]
  },
  {
   "cell_type": "code",
   "execution_count": 56,
   "metadata": {
    "ExecuteTime": {
     "end_time": "2020-09-07T02:52:49.629145Z",
     "start_time": "2020-09-07T02:52:49.597145Z"
    },
    "tags": [
     "=>whatsapp_model"
    ]
   },
   "outputs": [],
   "source": [
    "db.bind(provider='sqlite', filename=os.path.join(FILE_DIR, 'whatsapp.sqlite'), create_db=True)\n",
    "db.generate_mapping(create_tables=True)"
   ]
  },
  {
   "cell_type": "markdown",
   "metadata": {},
   "source": [
    "## Whatsapp WebDriver"
   ]
  },
  {
   "cell_type": "code",
   "execution_count": 57,
   "metadata": {
    "ExecuteTime": {
     "end_time": "2020-09-07T02:52:58.956617Z",
     "start_time": "2020-09-07T02:52:58.908611Z"
    },
    "tags": [
     "#whatsapp_webdriver"
    ]
   },
   "outputs": [],
   "source": [
    "import base64\n",
    "import re\n",
    "import time\n",
    "from typing import Dict, List, Union, Optional\n",
    "\n",
    "\n",
    "class WhatsAppWebDriver:\n",
    "    \n",
    "    def __init__(self, webdriver, contato: Contato):\n",
    "        self.webdriver = webdriver\n",
    "        self._contato = contato\n",
    "    \n",
    "    def acessar_site(self):\n",
    "        whatsapp_url = 'https://web.whatsapp.com'\n",
    "        if whatsapp_url not in self.webdriver.current_url:\n",
    "            self.webdriver.get(whatsapp_url)\n",
    "\n",
    "    def precisa_sincronizar(self) -> bool:\n",
    "        if 'Para usar o WhatsApp no seu computador' in self.webdriver.page_source:\n",
    "            return True\n",
    "        else:\n",
    "            return False\n",
    "        \n",
    "    def capturar_qrcode(self):\n",
    "        self.recarregar_qrcode()\n",
    "        canvas = self.webdriver.find_element_by_tag_name('canvas')\n",
    "        canvas_base64 = self.webdriver.execute_script(\"return arguments[0].toDataURL('image/png').substring(21);\", canvas)\n",
    "        return f'data:image/png;base64{canvas_base64}\"'\n",
    "\n",
    "    def recarregar_qrcode(self):\n",
    "        self.webdriver.find_element_by_class_name('_2nIZM').click()\n",
    "\n",
    "    def carregar_listar_contatos(self) -> bool:\n",
    "        self.__capturar_contatos()\n",
    "        return True\n",
    "    \n",
    "    @orm.db_session\n",
    "    def listar_contatos(self) -> List[str]:\n",
    "        lista_contatos = self._contato.select().order_by(self._contato.ordem)\n",
    "        return [contato.nome for contato in lista_contatos]\n",
    "    \n",
    "    def listar_contatos_e_telefones(self) -> List[Dict[str, str]]:\n",
    "        lista_dados = []\n",
    "        lista_contatos = self.listar_contatos()\n",
    "        for nome in lista_contatos:\n",
    "            self.__comecar()\n",
    "            dado = self.contato_e_telefone(nome)\n",
    "            lista_dados.append(dado)\n",
    "        return lista_dados\n",
    "    \n",
    "    def contato_e_telefone(self, nome: str) -> Dict[str, str]:\n",
    "        try:\n",
    "            dado = {}\n",
    "            dado['nome'] = nome\n",
    "            self.clicar_contato(nome)\n",
    "            elemento = self.webdriver.find_elements_by_xpath('//div[@class=\"PVMjB\"]').pop()\n",
    "            elemento.click()\n",
    "            elemento = self.webdriver.find_elements_by_xpath('//*[@title=\"Dados do contato\"]').pop()\n",
    "            elemento.click()\n",
    "            elemento = self.webdriver.find_elements_by_xpath(f'//span[@class=\"_1X4JR\"]').pop(3)\n",
    "            dado['telefone'] = elemento.text\n",
    "            self.webdriver.find_element_by_xpath(f'//button[@class=\"t4a8o\"]')\n",
    "        except:\n",
    "            ...    \n",
    "        return dado\n",
    "    \n",
    "    def clicar_contato(self, nome: str):\n",
    "        elemento = self.webdriver.find_element_by_xpath(f'//span[@dir and @title=\"{nome}\"]')\n",
    "        if elemento:\n",
    "            elemento.click()\n",
    "        return elemento\n",
    "\n",
    "    def enviar_mensagem(self, nome: str, mensagem: str):\n",
    "        contatos = list(filter(lambda c: c.get('nome') == nome, self._lista_contatos))\n",
    "        if len(contatos) != 1:\n",
    "            raise Exception('Não foi identificado o nome do contato!')\n",
    "        self.__rolar_listar_contatos(contatos.pop().get('ordem'))\n",
    "        mensagem = mensagem.strip()\n",
    "        if not mensagem:\n",
    "            return\n",
    "        self.clicar_contato(nome)\n",
    "        grupo_1 = self.webdriver.find_element_by_xpath('//footer[@class=\"_2vJ01\"]')\n",
    "        grupo_2 = grupo_1.find_element_by_xpath('//div[@class=\"_3uMse\"]')\n",
    "        grupo_2.click()\n",
    "        grupo_3 = grupo_2.find_element_by_class_name('_3FRCZ')\n",
    "        for caracter in mensagem:\n",
    "            grupo_3.send_keys(caracter)\n",
    "        botao_enviar = grupo_1.find_element_by_xpath('//div[@class=\"_1JNuk\"]/button')\n",
    "        botao_enviar.click()\n",
    "        \n",
    "    def __comecar(self):\n",
    "        self.acessar_site()\n",
    "        try:\n",
    "            self.webdriver.find_element_by_class_name('_1MXsz').pop().click()\n",
    "        except:\n",
    "            pass\n",
    "        if self.precisa_sincronizar():\n",
    "            raise Exception('Precisar sincronizar o QRCode!')\n",
    "#         self.webdriver.execute_script('document.getElementById(\"pane-side\").scrollTo({top: 0, left: 0, behavior: \"smooth\"});')\n",
    "#         time.sleep(3)\n",
    "        self.webdriver.execute_script('document.getElementById(\"pane-side\").scrollTo({top: 0, left: 0});')\n",
    "    \n",
    "    @orm.db_session\n",
    "    def __capturar_contatos(self) -> List[Dict[str, Union[str, int]]]:\n",
    "        global lista_contatos_externa\n",
    "        lista_contatos_temp = {}\n",
    "        \n",
    "        def capturar_contatos(webdriver):\n",
    "            lista_elementos = webdriver.find_elements_by_class_name('_210SC')\n",
    "            for elemento in lista_elementos:\n",
    "                contato = {}\n",
    "                for ec in elemento.find_elements_by_class_name('_3CneP'):\n",
    "                    contato['nome'] = ec.get_attribute('innerText')\n",
    "                    break\n",
    "                if contato.get('nome'):\n",
    "                    transform = elemento.value_of_css_property('transform')\n",
    "                    ordem = int(re.sub(r'^.+,\\s(\\d+)\\)$', r'\\1', transform))\n",
    "                    contato['ordem'] = ordem\n",
    "                    lista_contatos_temp[ordem] = contato\n",
    "\n",
    "        self.__rolar_listar_contatos()\n",
    "        capturar_contatos(self.webdriver)\n",
    "            \n",
    "        lista_keys = sorted(lista_contatos_temp.keys())\n",
    "        ultimo_contato_anterior = {}\n",
    "        ultimo_contato = lista_contatos_temp[lista_keys.pop()]\n",
    "\n",
    "        while True:\n",
    "            if ultimo_contato_anterior.get('ordem') == ultimo_contato.get('ordem'):\n",
    "                break\n",
    "            self.__rolar_listar_contatos(ultimo_contato.get('ordem') + 1)\n",
    "            capturar_contatos(self.webdriver)\n",
    "            lista_keys = sorted(lista_contatos_temp.keys())\n",
    "            ultimo_contato_anterior = ultimo_contato\n",
    "            ultimo_contato = lista_contatos_temp[lista_keys.pop()]\n",
    "    \n",
    "        [self._contato(nome=lista_contatos_temp[key]['nome'],\n",
    "                 telefone='',\n",
    "                 ordem=lista_contatos_temp[key]['ordem'])\n",
    "                 for key in sorted(lista_contatos_temp.keys())]\n",
    "\n",
    "    def __rolar_listar_contatos(self, ordem: Optional[int] = None):\n",
    "        ordem = ordem if ordem else 0\n",
    "        webdriver.execute_script(\"\"\"\n",
    "        document.getElementById('pane-side').scrollTo({\n",
    "          top: #top#,\n",
    "          left: 0,\n",
    "          behavior: 'smooth'\n",
    "        });\n",
    "        \"\"\".replace('#top#', str(ordem)))\n",
    "        time.sleep(1)\n"
   ]
  },
  {
   "cell_type": "markdown",
   "metadata": {},
   "source": [
    "## Desafios\n",
    "\n",
    "Executar quadro abaixo 1 vez para instanciar o navegador apenas 1 vez e não perder a instancia dele. Vai evitar de perder a sincronização do Whatsapp e o smartphone."
   ]
  },
  {
   "cell_type": "code",
   "execution_count": 45,
   "metadata": {
    "ExecuteTime": {
     "end_time": "2020-09-07T02:47:16.323226Z",
     "start_time": "2020-09-07T02:47:06.279860Z"
    },
    "tags": [
     "=>setup"
    ]
   },
   "outputs": [],
   "source": [
    "from modules.webdriver.firefox import WebDriverFirefox\n",
    "webdriver = WebDriverFirefox(False, 1).webdriver"
   ]
  },
  {
   "cell_type": "markdown",
   "metadata": {},
   "source": [
    "### Acessar o site do Whatsapp Web\n",
    "\n",
    "Apenas acessar o site."
   ]
  },
  {
   "cell_type": "code",
   "execution_count": 47,
   "metadata": {
    "ExecuteTime": {
     "end_time": "2020-09-07T02:47:27.908786Z",
     "start_time": "2020-09-07T02:47:26.393671Z"
    },
    "tags": [
     "=>whatsapp_webdriver"
    ]
   },
   "outputs": [],
   "source": [
    "whatsapp = WhatsAppWebDriver(webdriver, Contato)\n",
    "whatsapp.acessar_site()"
   ]
  },
  {
   "cell_type": "markdown",
   "metadata": {},
   "source": [
    "### Capturar QRCode de sincronia com Whatsapp\n",
    "\n",
    "Extrair o QRCode de sincronia do navegador com o smartphone e apresentar a imagem."
   ]
  },
  {
   "cell_type": "code",
   "execution_count": 74,
   "metadata": {
    "ExecuteTime": {
     "end_time": "2020-09-06T01:42:55.867715Z",
     "start_time": "2020-09-06T01:42:55.824686Z"
    },
    "tags": [
     "=>whatsapp_webdriver"
    ]
   },
   "outputs": [
    {
     "name": "stdout",
     "output_type": "stream",
     "text": [
      "Não é necessario sincronizar!\n"
     ]
    }
   ],
   "source": [
    "whatsapp = WhatsAppWebDriver(webdriver, Contato)\n",
    "precisa_sincronizar = whatsapp.precisa_sincronizar()\n",
    "\n",
    "if precisa_sincronizar:\n",
    "    whatsapp.recarregar_qrcode()\n",
    "    imagem_base64 = whatsapp.capturar_qrcode()\n",
    "\n",
    "    # Gerando HTML com o QRCODE para validar\n",
    "    html_qrcode = f'<html><body><img src=\"{imagem_base64}\"></body></html>'\n",
    "    with open(f'{FILE_DIR}/html_qrcode.html', 'w') as f:\n",
    "        f.write(html_qrcode)\n",
    "    os.system(f'{FILE_DIR}/html_qrcode.html')\n",
    "    print('É necessario sincronizar!')\n",
    "\n",
    "else:\n",
    "    print('Não é necessario sincronizar!')\n",
    "    "
   ]
  },
  {
   "cell_type": "markdown",
   "metadata": {},
   "source": [
    "### Listar todos os contatos\n",
    "\n",
    "Listar todos os contatos do usuario."
   ]
  },
  {
   "cell_type": "code",
   "execution_count": 58,
   "metadata": {
    "ExecuteTime": {
     "end_time": "2020-09-07T02:53:22.170025Z",
     "start_time": "2020-09-07T02:52:58.956617Z"
    },
    "tags": [
     "=>whatsapp_webdriver"
    ]
   },
   "outputs": [
    {
     "data": {
      "text/plain": [
       "['Anne Carolinne',\n",
       " 'Marcelo (Apê11)',\n",
       " 'Bruno (GFT)',\n",
       " 'Rafael Bombi',\n",
       " 'Apê11',\n",
       " 'Cesar Augusto Euzebio',\n",
       " 'Salete Panhota',\n",
       " 'Meetup Tec',\n",
       " 'Barriguinha mole',\n",
       " 'Silmara Panhota',\n",
       " 'Rita Silva',\n",
       " 'Luiz Anselmo da Silva',\n",
       " 'Rosemeire',\n",
       " 'Geraldo Lima',\n",
       " 'Nerdices (política)',\n",
       " 'Cristina (Apê 11)',\n",
       " 'Gislaine Coelho',\n",
       " 'Luana (Apê11)',\n",
       " 'Valdir Miranda',\n",
       " 'Gislaine Coelho',\n",
       " 'Alessandra Cassia Da Silva',\n",
       " 'Gislaine Coelho',\n",
       " 'Vinícius (Barbearia)',\n",
       " 'Marcia (Allegrini)',\n",
       " '+55 11 96922-3615',\n",
       " 'Cecilia Garcia Miranda',\n",
       " 'Leo (Apê11)',\n",
       " 'happy',\n",
       " 'Victor Panhota Da Silva',\n",
       " 'Vera Lucia Garcia',\n",
       " 'Sueli (Assistente Da Cleo Dentista)',\n",
       " 'Celia Panhota',\n",
       " 'Bruno (imóvel. aí)',\n",
       " 'Uma GFT menos Jovem',\n",
       " 'Pedro (Dentista)',\n",
       " '+55 11 4116-3753',\n",
       " 'Tadashi',\n",
       " 'Jovenildo',\n",
       " 'Rafael Manzoni',\n",
       " 'Danilo De Luna Martins',\n",
       " 'Andrios (GFT)',\n",
       " 'Papete de hugo',\n",
       " 'Irmandade Moto',\n",
       " 'Julio (Gerente Personalité)',\n",
       " 'Marina Marques Garcia de Miranda',\n",
       " 'Simone Panhota',\n",
       " 'Wellington Oliveira',\n",
       " 'Pedro (Rasta)',\n",
       " 'Paula Curado',\n",
       " 'Netflix',\n",
       " '+55 11 93496-7922',\n",
       " 'Roberto (Marido da Nusa)',\n",
       " '+55 11 95497-0275',\n",
       " 'Alex (GFT)',\n",
       " 'Pais de Família',\n",
       " 'Alessandro (Apê11)',\n",
       " 'ZAP imóveis Suporte',\n",
       " 'Flavio (IBM)',\n",
       " 'Ape11 - Elson Benedetti',\n",
       " 'Luis Augusto',\n",
       " 'Anderson Cavalcante',\n",
       " 'Claudio',\n",
       " 'Edson Martins',\n",
       " 'Jéssica (Prima)',\n",
       " 'Felipe Pozzibon',\n",
       " '+55 11 95020-1880',\n",
       " 'Amigos da Tammy! H',\n",
       " 'Renato (Apê11)',\n",
       " 'Samuel',\n",
       " 'Hermes Pardine',\n",
       " 'Grupo mais lindo!',\n",
       " '+55 11 93023-9070',\n",
       " '+55 11 97439-3953',\n",
       " 'Rappi',\n",
       " 'Marcia (GFT)',\n",
       " '+55 11 94102-7254',\n",
       " 'Claudia - HPE',\n",
       " 'Ester',\n",
       " 'Mary Obata',\n",
       " '+55 11 94255-5134',\n",
       " 'Juliana Camargo',\n",
       " '+55 11 94524-4282',\n",
       " 'Anderson Alves dos Santos',\n",
       " 'Caio De Carvalho Azevedo',\n",
       " 'Leticia Garcia',\n",
       " 'Moto - Role Alcir',\n",
       " 'Marcos - Corretor (Ape11)',\n",
       " '+55 11 94786-8063',\n",
       " 'Cleuza Casagrande',\n",
       " 'Celso',\n",
       " 'Jose Carlos (GFT)',\n",
       " 'Cida (Incor RI)',\n",
       " '+55 11 98883-1984',\n",
       " 'Julio (GFT)',\n",
       " '+55 11 4362-5555',\n",
       " 'Regina',\n",
       " 'Renata Pereira Sales',\n",
       " 'Família Panhota e Cia...',\n",
       " 'Natasha (Apê11)',\n",
       " 'Hilario',\n",
       " 'Ederson (Apê11)',\n",
       " 'Cleiton Oliveira',\n",
       " 'Isabel Lima - Corretora Apê11',\n",
       " 'XP Investimentos',\n",
       " 'Almoço',\n",
       " 'Paulo Neto',\n",
       " 'Qualicorp',\n",
       " 'Start New Game',\n",
       " 'Suelen Santana',\n",
       " 'Cris (Apê11)',\n",
       " 'Flavio (Itaú)',\n",
       " 'Ailton Soares Do Vale',\n",
       " '+55 11 93321-1101',\n",
       " 'Caio (Btrader)',\n",
       " 'Edmo',\n",
       " 'Stephane Panhota',\n",
       " 'Henrique Rodrigues',\n",
       " 'Vanusa',\n",
       " 'Rosi (Psicóloga)',\n",
       " 'Ricardo Placido',\n",
       " 'Vinícius Miranda (GFT)',\n",
       " 'Dr João Aires De Vasconcelos',\n",
       " 'Leandro Santiago Gutierres',\n",
       " 'Roberta Nunes Garcia',\n",
       " 'João Paulo (GFT)',\n",
       " 'Camila (HPE)',\n",
       " 'Odair (GFT)',\n",
       " 'Lucas Di Biasi',\n",
       " 'Diego Ferreira Lima',\n",
       " 'Dominic Garcia',\n",
       " 'Rogerio Alves',\n",
       " 'Roberta Garcia',\n",
       " 'Alcir',\n",
       " 'Marcos (Sogra)',\n",
       " 'Jorge Garcia',\n",
       " 'Amelia (Professora De Canto)',\n",
       " 'Rubens Obayashi',\n",
       " '+55 13 95539-1053',\n",
       " '+55 11 98155-5089',\n",
       " '+55 11 94534-4660',\n",
       " 'Leda',\n",
       " 'Luisa (Apê11)',\n",
       " 'Academia Smart Fit',\n",
       " 'Daniela Ciavatta',\n",
       " 'Nilson',\n",
       " 'Aline Garcia de Miranda',\n",
       " 'Alessandra (GFT)',\n",
       " 'Paulo Cesar Mota Jr',\n",
       " '+55 11 2455-5757',\n",
       " 'Lincoln',\n",
       " 'Luísinho (CPM)',\n",
       " 'Ape11',\n",
       " 'Fabio Regis',\n",
       " '+55 11 98260-4679',\n",
       " 'Fabiano Santos',\n",
       " 'Willian (Apê11)',\n",
       " 'Aurora',\n",
       " 'Milhoooooooes',\n",
       " 'Koga (GFT)',\n",
       " 'Próximo churras',\n",
       " 'Rogerio Leite',\n",
       " 'Marcia Lia',\n",
       " 'Vitor Hugo A. Santos (GFT)',\n",
       " 'Selvagens',\n",
       " '23/06? - HP Friends',\n",
       " 'Victor Tripeno',\n",
       " 'Andre Molero',\n",
       " 'Andrea Beltran',\n",
       " 'Vingadores By Jovem',\n",
       " 'Victor Garcia',\n",
       " 'Amigos',\n",
       " 'Vado (Pintor)',\n",
       " 'MBI - Itau',\n",
       " 'Paola Ceccaci',\n",
       " 'assunto desconhecido',\n",
       " 'Clube do Bolinha',\n",
       " 'Ricardo Placido']"
      ]
     },
     "execution_count": 58,
     "metadata": {},
     "output_type": "execute_result"
    }
   ],
   "source": [
    "whatsapp = WhatsAppWebDriver(webdriver, Contato)\n",
    "whatsapp.carregar_listar_contatos()\n",
    "whatsapp.listar_contatos()"
   ]
  },
  {
   "cell_type": "code",
   "execution_count": 59,
   "metadata": {
    "ExecuteTime": {
     "end_time": "2020-09-07T02:53:52.235512Z",
     "start_time": "2020-09-07T02:53:52.163508Z"
    }
   },
   "outputs": [
    {
     "name": "stdout",
     "output_type": "stream",
     "text": [
      "id |nome                               |telefone|ordem\n",
      "---+-----------------------------------+--------+-----\n",
      "1  |Anne Carolinne                     |        |0    \n",
      "2  |Marcelo (Apê11)                    |        |72   \n",
      "3  |Bruno (GFT)                        |        |144  \n",
      "4  |Rafael Bombi                       |        |216  \n",
      "5  |Apê11                              |        |288  \n",
      "6  |Cesar Augusto Euzebio              |        |360  \n",
      "7  |Salete Panhota                     |        |432  \n",
      "8  |Meetup Tec                         |        |504  \n",
      "9  |Barriguinha mole                   |        |576  \n",
      "10 |Silmara Panhota                    |        |648  \n",
      "11 |Rita Silva                         |        |720  \n",
      "12 |Luiz Anselmo da Silva              |        |792  \n",
      "13 |Rosemeire                          |        |864  \n",
      "14 |Geraldo Lima                       |        |936  \n",
      "15 |Nerdices (política)                |        |1008 \n",
      "16 |Cristina (Apê 11)                  |        |1080 \n",
      "17 |Gislaine Coelho                    |        |1152 \n",
      "18 |Luana (Apê11)                      |        |1224 \n",
      "19 |Valdir Miranda                     |        |1296 \n",
      "20 |Gislaine Coelho                    |        |1368 \n",
      "21 |Alessandra Cassia Da Silva         |        |1440 \n",
      "22 |Gislaine Coelho                    |        |1512 \n",
      "23 |Vinícius (Barbearia)               |        |1584 \n",
      "24 |Marcia (Allegrini)                 |        |1656 \n",
      "25 |+55 11 96922-3615                  |        |1728 \n",
      "26 |Cecilia Garcia Miranda             |        |1800 \n",
      "27 |Leo (Apê11)                        |        |1872 \n",
      "28 |happy                              |        |1944 \n",
      "29 |Victor Panhota Da Silva            |        |2016 \n",
      "30 |Vera Lucia Garcia                  |        |2088 \n",
      "31 |Sueli (Assistente Da Cleo Dentista)|        |2160 \n",
      "32 |Celia Panhota                      |        |2232 \n",
      "33 |Bruno (imóvel. aí)                 |        |2304 \n",
      "34 |Uma GFT menos Jovem                |        |2376 \n",
      "35 |Pedro (Dentista)                   |        |2448 \n",
      "36 |+55 11 4116-3753                   |        |2520 \n",
      "37 |Tadashi                            |        |2592 \n",
      "38 |Jovenildo                          |        |2664 \n",
      "39 |Rafael Manzoni                     |        |2736 \n",
      "40 |Danilo De Luna Martins             |        |2808 \n",
      "41 |Andrios (GFT)                      |        |2880 \n",
      "42 |Papete de hugo                     |        |2952 \n",
      "43 |Irmandade Moto                     |        |3024 \n",
      "44 |Julio (Gerente Personalité)        |        |3096 \n",
      "45 |Marina Marques Garcia de Miranda   |        |3168 \n",
      "46 |Simone Panhota                     |        |3240 \n",
      "47 |Wellington Oliveira                |        |3312 \n",
      "48 |Pedro (Rasta)                      |        |3384 \n",
      "49 |Paula Curado                       |        |3456 \n",
      "50 |Netflix                            |        |3528 \n",
      "51 |+55 11 93496-7922                  |        |3600 \n",
      "52 |Roberto (Marido da Nusa)           |        |3672 \n",
      "53 |+55 11 95497-0275                  |        |3744 \n",
      "54 |Alex (GFT)                         |        |3816 \n",
      "55 |Pais de Família                    |        |3888 \n",
      "56 |Alessandro (Apê11)                 |        |3960 \n",
      "57 |ZAP imóveis Suporte                |        |4032 \n",
      "58 |Flavio (IBM)                       |        |4104 \n",
      "59 |Ape11 - Elson Benedetti            |        |4176 \n",
      "60 |Luis Augusto                       |        |4248 \n",
      "61 |Anderson Cavalcante                |        |4320 \n",
      "62 |Claudio                            |        |4392 \n",
      "63 |Edson Martins                      |        |4464 \n",
      "64 |Jéssica (Prima)                    |        |4536 \n",
      "65 |Felipe Pozzibon                    |        |4608 \n",
      "66 |+55 11 95020-1880                  |        |4680 \n",
      "67 |Amigos da Tammy! H                 |        |4752 \n",
      "68 |Renato (Apê11)                     |        |4824 \n",
      "69 |Samuel                             |        |4896 \n",
      "70 |Hermes Pardine                     |        |4968 \n",
      "71 |Grupo mais lindo!                  |        |5040 \n",
      "72 |+55 11 93023-9070                  |        |5112 \n",
      "73 |+55 11 97439-3953                  |        |5184 \n",
      "74 |Rappi                              |        |5256 \n",
      "75 |Marcia (GFT)                       |        |5328 \n",
      "76 |+55 11 94102-7254                  |        |5400 \n",
      "77 |Claudia - HPE                      |        |5472 \n",
      "78 |Ester                              |        |5544 \n",
      "79 |Mary Obata                         |        |5616 \n",
      "80 |+55 11 94255-5134                  |        |5688 \n",
      "81 |Juliana Camargo                    |        |5760 \n",
      "82 |+55 11 94524-4282                  |        |5832 \n",
      "83 |Anderson Alves dos Santos          |        |5904 \n",
      "84 |Caio De Carvalho Azevedo           |        |5976 \n",
      "85 |Leticia Garcia                     |        |6048 \n",
      "86 |Moto - Role Alcir                  |        |6120 \n",
      "87 |Marcos - Corretor (Ape11)          |        |6192 \n",
      "88 |+55 11 94786-8063                  |        |6264 \n",
      "89 |Cleuza Casagrande                  |        |6336 \n",
      "90 |Celso                              |        |6408 \n",
      "91 |Jose Carlos (GFT)                  |        |6480 \n",
      "92 |Cida (Incor RI)                    |        |6552 \n",
      "93 |+55 11 98883-1984                  |        |6624 \n",
      "94 |Julio (GFT)                        |        |6696 \n",
      "95 |+55 11 4362-5555                   |        |6768 \n",
      "96 |Regina                             |        |6840 \n",
      "97 |Renata Pereira Sales               |        |6912 \n",
      "98 |Família Panhota e Cia...           |        |6984 \n",
      "99 |Natasha (Apê11)                    |        |7056 \n",
      "100|Hilario                            |        |7128 \n",
      "101|Ederson (Apê11)                    |        |7200 \n",
      "102|Cleiton Oliveira                   |        |7272 \n",
      "103|Isabel Lima - Corretora Apê11      |        |7344 \n",
      "104|XP Investimentos                   |        |7416 \n",
      "105|Almoço                             |        |7488 \n",
      "106|Paulo Neto                         |        |7560 \n",
      "107|Qualicorp                          |        |7632 \n",
      "108|Start New Game                     |        |7704 \n",
      "109|Suelen Santana                     |        |7776 \n",
      "110|Cris (Apê11)                       |        |7848 \n",
      "111|Flavio (Itaú)                      |        |7920 \n",
      "112|Ailton Soares Do Vale              |        |7992 \n",
      "113|+55 11 93321-1101                  |        |8064 \n",
      "114|Caio (Btrader)                     |        |8136 \n",
      "115|Edmo                               |        |8208 \n",
      "116|Stephane Panhota                   |        |8280 \n",
      "117|Henrique Rodrigues                 |        |8352 \n",
      "118|Vanusa                             |        |8424 \n",
      "119|Rosi (Psicóloga)                   |        |8496 \n",
      "120|Ricardo Placido                    |        |8568 \n",
      "121|Vinícius Miranda (GFT)             |        |8640 \n",
      "122|Dr João Aires De Vasconcelos       |        |8712 \n",
      "123|Leandro Santiago Gutierres         |        |8784 \n",
      "124|Roberta Nunes Garcia               |        |8856 \n",
      "125|João Paulo (GFT)                   |        |8928 \n",
      "126|Camila (HPE)                       |        |9000 \n",
      "127|Odair (GFT)                        |        |9072 \n",
      "128|Lucas Di Biasi                     |        |9144 \n",
      "129|Diego Ferreira Lima                |        |9216 \n",
      "130|Dominic Garcia                     |        |9288 \n",
      "131|Rogerio Alves                      |        |9360 \n",
      "132|Roberta Garcia                     |        |9432 \n",
      "133|Alcir                              |        |9504 \n",
      "134|Marcos (Sogra)                     |        |9576 \n",
      "135|Jorge Garcia                       |        |9648 \n",
      "136|Amelia (Professora De Canto)       |        |9720 \n",
      "137|Rubens Obayashi                    |        |9792 \n",
      "138|+55 13 95539-1053                  |        |9864 \n",
      "139|+55 11 98155-5089                  |        |9936 \n",
      "140|+55 11 94534-4660                  |        |10008\n",
      "141|Leda                               |        |10080\n",
      "142|Luisa (Apê11)                      |        |10152\n",
      "143|Academia Smart Fit                 |        |10224\n",
      "144|Daniela Ciavatta                   |        |10296\n",
      "145|Nilson                             |        |10368\n",
      "146|Aline Garcia de Miranda            |        |10440\n",
      "147|Alessandra (GFT)                   |        |10512\n",
      "148|Paulo Cesar Mota Jr                |        |10584\n",
      "149|+55 11 2455-5757                   |        |10656\n",
      "150|Lincoln                            |        |10728\n",
      "151|Luísinho (CPM)                     |        |10800\n",
      "152|Ape11                              |        |10872\n",
      "153|Fabio Regis                        |        |10944\n",
      "154|+55 11 98260-4679                  |        |11016\n",
      "155|Fabiano Santos                     |        |11088\n",
      "156|Willian (Apê11)                    |        |11160\n",
      "157|Aurora                             |        |11232\n",
      "158|Milhoooooooes                      |        |11304\n",
      "159|Koga (GFT)                         |        |11376\n",
      "160|Próximo churras                    |        |11448\n",
      "161|Rogerio Leite                      |        |11520\n",
      "162|Marcia Lia                         |        |11592\n",
      "163|Vitor Hugo A. Santos (GFT)         |        |11664\n",
      "164|Selvagens                          |        |11736\n",
      "165|23/06? - HP Friends                |        |11808\n",
      "166|Victor Tripeno                     |        |11880\n",
      "167|Andre Molero                       |        |11952\n",
      "168|Andrea Beltran                     |        |12024\n",
      "169|Vingadores By Jovem                |        |12096\n",
      "170|Victor Garcia                      |        |12168\n",
      "171|Amigos                             |        |12240\n",
      "172|Vado (Pintor)                      |        |12312\n",
      "173|MBI - Itau                         |        |12384\n",
      "174|Paola Ceccaci                      |        |12456\n",
      "175|assunto desconhecido               |        |12528\n",
      "176|Clube do Bolinha                   |        |12600\n",
      "177|Ricardo Placido                    |        |12672\n"
     ]
    }
   ],
   "source": [
    "Contato.select().show()"
   ]
  },
  {
   "cell_type": "markdown",
   "metadata": {},
   "source": [
    "### Enviar mensagem para um contato especifico"
   ]
  },
  {
   "cell_type": "code",
   "execution_count": 266,
   "metadata": {
    "ExecuteTime": {
     "end_time": "2020-09-06T04:09:33.285640Z",
     "start_time": "2020-09-06T04:09:30.520384Z"
    },
    "tags": [
     "=>whatsapp_webdriver"
    ]
   },
   "outputs": [],
   "source": [
    "whatsapp = WhatsAppWebDriver(webdriver, Contato)\n",
    "whatsapp.enviar_mensagem('Anne Carolinne', 'oi')"
   ]
  },
  {
   "cell_type": "markdown",
   "metadata": {},
   "source": [
    "### Mensagens em massa"
   ]
  },
  {
   "cell_type": "code",
   "execution_count": 56,
   "metadata": {
    "ExecuteTime": {
     "end_time": "2020-09-05T21:45:34.664888Z",
     "start_time": "2020-09-05T21:45:22.812294Z"
    }
   },
   "outputs": [],
   "source": [
    "lista_contatos = [\n",
    " 'Anne Carolinne',\n",
    " 'Rosemeire',\n",
    " 'Silmara Panhota',\n",
    " 'Rita Silva',\n",
    " 'Luiz Anselmo da Silva'\n",
    "]\n",
    "\n",
    "whatsapp = WhatsAppWeb(webdriver)\n",
    "\n",
    "for contato in lista_contatos:\n",
    "    whatsapp.enviar_mensagem(contato, 'Estou testando umas paradas no meu computador!')\n"
   ]
  },
  {
   "cell_type": "markdown",
   "metadata": {},
   "source": [
    "### Obter dados do contato"
   ]
  },
  {
   "cell_type": "code",
   "execution_count": 134,
   "metadata": {
    "ExecuteTime": {
     "end_time": "2020-09-05T22:41:20.270733Z",
     "start_time": "2020-09-05T22:40:24.895308Z"
    },
    "tags": [
     "=>whatsapp"
    ]
   },
   "outputs": [
    {
     "name": "stdout",
     "output_type": "stream",
     "text": [
      "[{'nome': '+55 11 96922-3615', 'telefone': '+55 11 96922-3615'}, {'nome': 'Agendamentos só chamar!'}, {'nome': 'Alessandra Cassia Da Silva', 'telefone': '+55 11 99265-8248'}, {'nome': 'Barriguinha mole'}, {'nome': 'Cecilia Garcia Miranda'}, {'nome': 'Cristina (Apê 11)', 'telefone': '+55 11 98199-2975'}, {'nome': 'Geraldo Lima', 'telefone': '+55 11 98163-1335'}, {'nome': 'Gislaine Coelho', 'telefone': '+55 11 96638-1918'}, {'nome': 'Leo (Apê11)', 'telefone': '+55 11 97504-2027'}, {'nome': 'Luana (Apê11)', 'telefone': '+55 11 98776-7177'}, {'nome': 'Marcia (Allegrini)'}, {'nome': 'Meetup Tec'}, {'nome': 'Nerdices (política)'}, {'nome': 'Salete Panhota'}, {'nome': 'Valdir Miranda', 'telefone': '+55 11 97395-0172'}, {'nome': 'Vinícius (Barbearia)', 'telefone': 'Agendamentos só chamar!'}]\n"
     ]
    }
   ],
   "source": [
    "whatsapp = WhatsAppWebDriver(webdriver, Contato)\n",
    "# whatsapp.listar_contatos()\n",
    "# whatsapp.enviar_mensagem('Anne Carolinne', 'Estou testando umas paradas no meu computador!')\n",
    "# whatsapp.contato_e_telefone('Rita Silva')\n",
    "print(repr(whatsapp.listar_contatos_e_telefones()))"
   ]
  },
  {
   "cell_type": "code",
   "execution_count": 82,
   "metadata": {
    "ExecuteTime": {
     "end_time": "2020-09-05T22:17:22.710643Z",
     "start_time": "2020-09-05T22:17:22.685643Z"
    }
   },
   "outputs": [
    {
     "ename": "AttributeError",
     "evalue": "'FirefoxWebElement' object has no attribute 'attribute'",
     "output_type": "error",
     "traceback": [
      "\u001b[1;31m---------------------------------------------------------------------------\u001b[0m",
      "\u001b[1;31mAttributeError\u001b[0m                            Traceback (most recent call last)",
      "\u001b[1;32m<ipython-input-82-b9b465704d57>\u001b[0m in \u001b[0;36m<module>\u001b[1;34m\u001b[0m\n\u001b[0;32m      1\u001b[0m \u001b[0melemento\u001b[0m \u001b[1;33m=\u001b[0m \u001b[0mwebdriver\u001b[0m\u001b[1;33m.\u001b[0m\u001b[0mfind_elements_by_xpath\u001b[0m\u001b[1;33m(\u001b[0m\u001b[1;34m'//div[@class=\"PVMjB\"]'\u001b[0m\u001b[1;33m)\u001b[0m\u001b[1;33m.\u001b[0m\u001b[0mpop\u001b[0m\u001b[1;33m(\u001b[0m\u001b[1;33m)\u001b[0m\u001b[1;33m\u001b[0m\u001b[1;33m\u001b[0m\u001b[0m\n\u001b[1;32m----> 2\u001b[1;33m \u001b[0melemento\u001b[0m\u001b[1;33m.\u001b[0m\u001b[0mattribute\u001b[0m\u001b[1;33m(\u001b[0m\u001b[1;34m'innerHtml'\u001b[0m\u001b[1;33m)\u001b[0m\u001b[1;33m\u001b[0m\u001b[1;33m\u001b[0m\u001b[0m\n\u001b[0m\u001b[0;32m      3\u001b[0m \u001b[1;31m# elemento.click()\u001b[0m\u001b[1;33m\u001b[0m\u001b[1;33m\u001b[0m\u001b[1;33m\u001b[0m\u001b[0m\n\u001b[0;32m      4\u001b[0m \u001b[1;31m# elemento = webdriver.find_elements_by_xpath('//*[@title=\"Dados do contato\"]').pop()\u001b[0m\u001b[1;33m\u001b[0m\u001b[1;33m\u001b[0m\u001b[1;33m\u001b[0m\u001b[0m\n\u001b[0;32m      5\u001b[0m \u001b[1;31m# elemento.click()\u001b[0m\u001b[1;33m\u001b[0m\u001b[1;33m\u001b[0m\u001b[1;33m\u001b[0m\u001b[0m\n",
      "\u001b[1;31mAttributeError\u001b[0m: 'FirefoxWebElement' object has no attribute 'attribute'"
     ]
    }
   ],
   "source": [
    "elemento = webdriver.find_elements_by_xpath('//div[@class=\"PVMjB\"]').pop()\n",
    "elemento.attribute('innerHtml')\n",
    "# elemento.click()\n",
    "# elemento = webdriver.find_elements_by_xpath('//*[@title=\"Dados do contato\"]').pop()\n",
    "# elemento.click()\n",
    "# elemento = webdriver.find_elements_by_xpath(f'//span[@class=\"_1X4JR\"]').pop(3)\n"
   ]
  }
 ],
 "metadata": {
  "celltoolbar": "Tags",
  "hide_input": false,
  "kernelspec": {
   "display_name": "Python 3",
   "language": "python",
   "name": "python3"
  },
  "language_info": {
   "codemirror_mode": {
    "name": "ipython",
    "version": 3
   },
   "file_extension": ".py",
   "mimetype": "text/x-python",
   "name": "python",
   "nbconvert_exporter": "python",
   "pygments_lexer": "ipython3",
   "version": "3.8.5"
  },
  "toc": {
   "base_numbering": 1,
   "nav_menu": {},
   "number_sections": true,
   "sideBar": true,
   "skip_h1_title": false,
   "title_cell": "Table of Contents",
   "title_sidebar": "Contents",
   "toc_cell": false,
   "toc_position": {
    "height": "calc(100% - 180px)",
    "left": "10px",
    "top": "150px",
    "width": "273.188px"
   },
   "toc_section_display": true,
   "toc_window_display": true
  },
  "varInspector": {
   "cols": {
    "lenName": 16,
    "lenType": 16,
    "lenVar": 40
   },
   "kernels_config": {
    "python": {
     "delete_cmd_postfix": "",
     "delete_cmd_prefix": "del ",
     "library": "var_list.py",
     "varRefreshCmd": "print(var_dic_list())"
    },
    "r": {
     "delete_cmd_postfix": ") ",
     "delete_cmd_prefix": "rm(",
     "library": "var_list.r",
     "varRefreshCmd": "cat(var_dic_list()) "
    }
   },
   "types_to_exclude": [
    "module",
    "function",
    "builtin_function_or_method",
    "instance",
    "_Feature"
   ],
   "window_display": false
  }
 },
 "nbformat": 4,
 "nbformat_minor": 4
}
