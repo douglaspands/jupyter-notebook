{
 "cells": [
  {
   "cell_type": "markdown",
   "metadata": {},
   "source": [
    "# Whatsapp - Chatbot"
   ]
  },
  {
   "cell_type": "markdown",
   "metadata": {},
   "source": [
    "## Setup"
   ]
  },
  {
   "cell_type": "code",
   "execution_count": 26,
   "metadata": {
    "ExecuteTime": {
     "end_time": "2020-09-05T21:26:27.598067Z",
     "start_time": "2020-09-05T21:26:27.582059Z"
    },
    "tags": [
     "#setup"
    ]
   },
   "outputs": [],
   "source": [
    "import os, sys, platform\n",
    "sys.path.append(os.path.abspath('../src'))\n",
    "if platform.system() == 'Windows':\n",
    "    os.environ['COMSPEC'] = 'powershell'\n"
   ]
  },
  {
   "cell_type": "markdown",
   "metadata": {},
   "source": [
    "## Processar"
   ]
  },
  {
   "cell_type": "markdown",
   "metadata": {},
   "source": [
    "### Whatsapp - WebDriver"
   ]
  },
  {
   "cell_type": "code",
   "execution_count": 27,
   "metadata": {
    "ExecuteTime": {
     "end_time": "2020-09-05T21:26:34.505129Z",
     "start_time": "2020-09-05T21:26:27.598067Z"
    },
    "tags": [
     "=>setup"
    ]
   },
   "outputs": [],
   "source": [
    "from modules.webdriver.firefox import WebDriverFirefox\n",
    "\n",
    "webdriver = WebDriverFirefox(False, 3).webdriver\n"
   ]
  },
  {
   "cell_type": "markdown",
   "metadata": {},
   "source": [
    "### Whatsapp"
   ]
  },
  {
   "cell_type": "code",
   "execution_count": 133,
   "metadata": {
    "ExecuteTime": {
     "end_time": "2020-09-05T22:40:24.891306Z",
     "start_time": "2020-09-05T22:40:24.860308Z"
    },
    "tags": [
     "#whatsapp"
    ]
   },
   "outputs": [],
   "source": [
    "import time\n",
    "from typing import Dict, List\n",
    "\n",
    "\n",
    "class WhatsAppWeb:\n",
    "    \n",
    "    def __init__(self, webdriver):\n",
    "        self.tempo_espera = 1\n",
    "        self.webdriver = webdriver\n",
    "        \n",
    "    def acessar_site(self):\n",
    "        self.webdriver.get('https://web.whatsapp.com/')\n",
    "\n",
    "    def listar_contatos(self) -> List[str]:\n",
    "        self.__comecar()\n",
    "        lista_elementos = self.webdriver.find_elements_by_xpath('//span[@dir and @title]')\n",
    "        lista_contatos_ = []\n",
    "        for elemento in lista_elementos:\n",
    "            nome = elemento.text\n",
    "            if nome not in lista_contatos_:\n",
    "                lista_contatos_.append(nome)\n",
    "        return sorted(lista_contatos_)\n",
    "\n",
    "    def listar_contatos_e_telefones(self) -> List[Dict[str, str]]:\n",
    "        lista_dados = []\n",
    "        lista_contatos = self.listar_contatos()\n",
    "        for nome in lista_contatos:\n",
    "            self.__comecar()\n",
    "            dado = self.contato_e_telefone(nome)\n",
    "            lista_dados.append(dado)\n",
    "        return lista_dados\n",
    "    \n",
    "    def contato_e_telefone(self, nome: str) -> Dict[str, str]:\n",
    "        try:\n",
    "            dado = {}\n",
    "            dado['nome'] = nome\n",
    "            self.clicar_contato(nome)\n",
    "            time.sleep(self.tempo_espera)\n",
    "            elemento = self.webdriver.find_elements_by_xpath('//div[@class=\"PVMjB\"]').pop()\n",
    "            elemento.click()\n",
    "            elemento = self.webdriver.find_elements_by_xpath('//*[@title=\"Dados do contato\"]').pop()\n",
    "            elemento.click()\n",
    "            elemento = self.webdriver.find_elements_by_xpath(f'//span[@class=\"_1X4JR\"]').pop(3)\n",
    "            time.sleep(self.tempo_espera)\n",
    "            dado['telefone'] = elemento.text\n",
    "            self.webdriver.find_element_by_xpath(f'//button[@class=\"t4a8o\"]')\n",
    "        except:\n",
    "            ...    \n",
    "        return dado\n",
    "    \n",
    "    def clicar_contato(self, nome: str):\n",
    "        elemento = self.webdriver.find_element_by_xpath(f'//span[@dir and @title=\"{nome}\"]')\n",
    "        if elemento:\n",
    "            elemento.click()\n",
    "        return elemento\n",
    "\n",
    "    def enviar_mensagem(self, nome: str, mensagem: str):\n",
    "        self.__comecar()\n",
    "        mensagem = mensagem.strip()\n",
    "        if not mensagem:\n",
    "            return\n",
    "        self.clicar_contato(nome)\n",
    "        time.sleep(self.tempo_espera)\n",
    "        grupo_1 = self.webdriver.find_element_by_xpath('//footer[@class=\"_2vJ01\"]')\n",
    "        time.sleep(1)\n",
    "        grupo_2 = grupo_1.find_element_by_xpath('//div[@class=\"_3uMse\"]')\n",
    "        grupo_2.click()\n",
    "        time.sleep(self.tempo_espera)\n",
    "        grupo_3 = grupo_2.find_element_by_class_name('_3FRCZ')\n",
    "        for caracter in mensagem:\n",
    "            grupo_3.send_keys(caracter)\n",
    "        botao_enviar = grupo_1.find_element_by_xpath('//div[@class=\"_1JNuk\"]/button')\n",
    "        time.sleep(self.tempo_espera)\n",
    "        botao_enviar.click()\n",
    "        \n",
    "    def __comecar(self):\n",
    "        self.webdriver.find_elements_by_xpath('//div[@class=\"_1MXsz\"]').pop().click()\n",
    "        painel_lateral = self.webdriver.find_element_by_id('pane-side')\n",
    "        self.webdriver.execute_script(\"return arguments[0].scrollIntoView(true);\", painel_lateral)\n"
   ]
  },
  {
   "cell_type": "markdown",
   "metadata": {},
   "source": [
    "### Comandos"
   ]
  },
  {
   "cell_type": "markdown",
   "metadata": {},
   "source": [
    "#### Listar Contatos"
   ]
  },
  {
   "cell_type": "code",
   "execution_count": 125,
   "metadata": {
    "ExecuteTime": {
     "end_time": "2020-09-05T22:37:33.152307Z",
     "start_time": "2020-09-05T22:37:32.704480Z"
    },
    "tags": [
     "=>whatsapp"
    ]
   },
   "outputs": [
    {
     "data": {
      "text/plain": [
       "['Alessandra Cassia Da Silva',\n",
       " 'Anne Carolinne',\n",
       " 'Apê11',\n",
       " 'Barriguinha mole',\n",
       " 'Cristina (Apê 11)',\n",
       " 'Geraldo Lima',\n",
       " 'Gislaine Coelho',\n",
       " 'Luana (Apê11)',\n",
       " 'Luiz Anselmo da Silva',\n",
       " 'Meetup Tec',\n",
       " 'Nerdices (política)',\n",
       " 'Rita Silva',\n",
       " 'Rosemeire',\n",
       " 'Silmara Panhota',\n",
       " 'Valdir Miranda']"
      ]
     },
     "execution_count": 125,
     "metadata": {},
     "output_type": "execute_result"
    }
   ],
   "source": [
    "whatsapp = WhatsAppWeb(webdriver)\n",
    "whatsapp.listar_contatos()\n"
   ]
  },
  {
   "cell_type": "markdown",
   "metadata": {},
   "source": [
    "#### Enviar Mensagem"
   ]
  },
  {
   "cell_type": "code",
   "execution_count": 51,
   "metadata": {
    "ExecuteTime": {
     "end_time": "2020-09-05T21:37:57.459366Z",
     "start_time": "2020-09-05T21:37:49.144456Z"
    },
    "tags": [
     "=>whatsapp"
    ]
   },
   "outputs": [],
   "source": [
    "whatsapp = WhatsAppWeb(webdriver)\n",
    "# whatsapp.acessar_site()\n",
    "# contatos = whatsapp.listar_contatos()\n",
    "# whatsapp.clicar_contato('Anne Carolinne')\n",
    "# whatsapp.enviar_mensagem('Anne Carolinne', 'Oi')\n",
    "# whatsapp.contato_e_telefone('Anne Carolinne')\n",
    "whatsapp.enviar_mensagem('Anne Carolinne', 'WhatsApp é um aplicativo multiplataforma de mensagens instantâneas e chamadas de voz para smartphones. Além de mensagens de texto, os usuários podem enviar imagens, vídeos e documentos em PDF, além de fazer ligações grátis por meio de uma conexão com a internet')\n"
   ]
  },
  {
   "cell_type": "code",
   "execution_count": 15,
   "metadata": {
    "ExecuteTime": {
     "end_time": "2020-09-05T21:07:48.965139Z",
     "start_time": "2020-09-05T21:07:32.251791Z"
    }
   },
   "outputs": [],
   "source": [
    "for caracter in 'TE AMO MINHA CREMOSA':\n",
    "    whatsapp.enviar_mensagem('Anne Carolinne', caracter)"
   ]
  },
  {
   "cell_type": "code",
   "execution_count": 36,
   "metadata": {
    "ExecuteTime": {
     "end_time": "2020-09-04T22:43:37.840169Z",
     "start_time": "2020-09-04T22:43:37.828146Z"
    }
   },
   "outputs": [
    {
     "data": {
      "text/plain": [
       "['Anne Carolinne',\n",
       " 'Vinícius (Barbearia)',\n",
       " 'Silmara Panhota',\n",
       " 'Gislaine Coelho',\n",
       " 'Alessandra Cassia Da Silva',\n",
       " 'Gislaine Coelho',\n",
       " 'Valdir Miranda',\n",
       " 'Luana (Apê11)',\n",
       " 'Luiz Anselmo da Silva',\n",
       " 'Gislaine Coelho',\n",
       " 'Cristina (Apê 11)',\n",
       " 'Barriguinha mole',\n",
       " 'Rita Silva',\n",
       " 'Nerdices (política)',\n",
       " 'Meetup Tec',\n",
       " 'Rita Silva']"
      ]
     },
     "execution_count": 36,
     "metadata": {},
     "output_type": "execute_result"
    }
   ],
   "source": [
    "contatos"
   ]
  },
  {
   "cell_type": "markdown",
   "metadata": {},
   "source": [
    "### Mensagens em massa"
   ]
  },
  {
   "cell_type": "code",
   "execution_count": 56,
   "metadata": {
    "ExecuteTime": {
     "end_time": "2020-09-05T21:45:34.664888Z",
     "start_time": "2020-09-05T21:45:22.812294Z"
    }
   },
   "outputs": [],
   "source": [
    "lista_contatos = [\n",
    " 'Anne Carolinne',\n",
    " 'Rosemeire',\n",
    " 'Silmara Panhota',\n",
    " 'Rita Silva',\n",
    " 'Luiz Anselmo da Silva'\n",
    "]\n",
    "\n",
    "whatsapp = WhatsAppWeb(webdriver)\n",
    "\n",
    "for contato in lista_contatos:\n",
    "    whatsapp.enviar_mensagem(contato, 'Estou testando umas paradas no meu computador!')\n"
   ]
  },
  {
   "cell_type": "markdown",
   "metadata": {},
   "source": [
    "### Obter dados do contato"
   ]
  },
  {
   "cell_type": "code",
   "execution_count": 134,
   "metadata": {
    "ExecuteTime": {
     "end_time": "2020-09-05T22:41:20.270733Z",
     "start_time": "2020-09-05T22:40:24.895308Z"
    },
    "tags": [
     "=>whatsapp"
    ]
   },
   "outputs": [
    {
     "name": "stdout",
     "output_type": "stream",
     "text": [
      "[{'nome': '+55 11 96922-3615', 'telefone': '+55 11 96922-3615'}, {'nome': 'Agendamentos só chamar!'}, {'nome': 'Alessandra Cassia Da Silva', 'telefone': '+55 11 99265-8248'}, {'nome': 'Barriguinha mole'}, {'nome': 'Cecilia Garcia Miranda'}, {'nome': 'Cristina (Apê 11)', 'telefone': '+55 11 98199-2975'}, {'nome': 'Geraldo Lima', 'telefone': '+55 11 98163-1335'}, {'nome': 'Gislaine Coelho', 'telefone': '+55 11 96638-1918'}, {'nome': 'Leo (Apê11)', 'telefone': '+55 11 97504-2027'}, {'nome': 'Luana (Apê11)', 'telefone': '+55 11 98776-7177'}, {'nome': 'Marcia (Allegrini)'}, {'nome': 'Meetup Tec'}, {'nome': 'Nerdices (política)'}, {'nome': 'Salete Panhota'}, {'nome': 'Valdir Miranda', 'telefone': '+55 11 97395-0172'}, {'nome': 'Vinícius (Barbearia)', 'telefone': 'Agendamentos só chamar!'}]\n"
     ]
    }
   ],
   "source": [
    "whatsapp = WhatsAppWeb(webdriver)\n",
    "# whatsapp.listar_contatos()\n",
    "# whatsapp.enviar_mensagem('Anne Carolinne', 'Estou testando umas paradas no meu computador!')\n",
    "# whatsapp.contato_e_telefone('Rita Silva')\n",
    "print(repr(whatsapp.listar_contatos_e_telefones()))"
   ]
  },
  {
   "cell_type": "code",
   "execution_count": 82,
   "metadata": {
    "ExecuteTime": {
     "end_time": "2020-09-05T22:17:22.710643Z",
     "start_time": "2020-09-05T22:17:22.685643Z"
    }
   },
   "outputs": [
    {
     "ename": "AttributeError",
     "evalue": "'FirefoxWebElement' object has no attribute 'attribute'",
     "output_type": "error",
     "traceback": [
      "\u001b[1;31m---------------------------------------------------------------------------\u001b[0m",
      "\u001b[1;31mAttributeError\u001b[0m                            Traceback (most recent call last)",
      "\u001b[1;32m<ipython-input-82-b9b465704d57>\u001b[0m in \u001b[0;36m<module>\u001b[1;34m\u001b[0m\n\u001b[0;32m      1\u001b[0m \u001b[0melemento\u001b[0m \u001b[1;33m=\u001b[0m \u001b[0mwebdriver\u001b[0m\u001b[1;33m.\u001b[0m\u001b[0mfind_elements_by_xpath\u001b[0m\u001b[1;33m(\u001b[0m\u001b[1;34m'//div[@class=\"PVMjB\"]'\u001b[0m\u001b[1;33m)\u001b[0m\u001b[1;33m.\u001b[0m\u001b[0mpop\u001b[0m\u001b[1;33m(\u001b[0m\u001b[1;33m)\u001b[0m\u001b[1;33m\u001b[0m\u001b[1;33m\u001b[0m\u001b[0m\n\u001b[1;32m----> 2\u001b[1;33m \u001b[0melemento\u001b[0m\u001b[1;33m.\u001b[0m\u001b[0mattribute\u001b[0m\u001b[1;33m(\u001b[0m\u001b[1;34m'innerHtml'\u001b[0m\u001b[1;33m)\u001b[0m\u001b[1;33m\u001b[0m\u001b[1;33m\u001b[0m\u001b[0m\n\u001b[0m\u001b[0;32m      3\u001b[0m \u001b[1;31m# elemento.click()\u001b[0m\u001b[1;33m\u001b[0m\u001b[1;33m\u001b[0m\u001b[1;33m\u001b[0m\u001b[0m\n\u001b[0;32m      4\u001b[0m \u001b[1;31m# elemento = webdriver.find_elements_by_xpath('//*[@title=\"Dados do contato\"]').pop()\u001b[0m\u001b[1;33m\u001b[0m\u001b[1;33m\u001b[0m\u001b[1;33m\u001b[0m\u001b[0m\n\u001b[0;32m      5\u001b[0m \u001b[1;31m# elemento.click()\u001b[0m\u001b[1;33m\u001b[0m\u001b[1;33m\u001b[0m\u001b[1;33m\u001b[0m\u001b[0m\n",
      "\u001b[1;31mAttributeError\u001b[0m: 'FirefoxWebElement' object has no attribute 'attribute'"
     ]
    }
   ],
   "source": [
    "elemento = webdriver.find_elements_by_xpath('//div[@class=\"PVMjB\"]').pop()\n",
    "elemento.attribute('innerHtml')\n",
    "# elemento.click()\n",
    "# elemento = webdriver.find_elements_by_xpath('//*[@title=\"Dados do contato\"]').pop()\n",
    "# elemento.click()\n",
    "# elemento = webdriver.find_elements_by_xpath(f'//span[@class=\"_1X4JR\"]').pop(3)\n"
   ]
  }
 ],
 "metadata": {
  "celltoolbar": "Tags",
  "hide_input": false,
  "kernelspec": {
   "display_name": "Python 3",
   "language": "python",
   "name": "python3"
  },
  "language_info": {
   "codemirror_mode": {
    "name": "ipython",
    "version": 3
   },
   "file_extension": ".py",
   "mimetype": "text/x-python",
   "name": "python",
   "nbconvert_exporter": "python",
   "pygments_lexer": "ipython3",
   "version": "3.8.5"
  },
  "toc": {
   "base_numbering": 1,
   "nav_menu": {},
   "number_sections": true,
   "sideBar": true,
   "skip_h1_title": false,
   "title_cell": "Table of Contents",
   "title_sidebar": "Contents",
   "toc_cell": false,
   "toc_position": {},
   "toc_section_display": true,
   "toc_window_display": false
  },
  "varInspector": {
   "cols": {
    "lenName": 16,
    "lenType": 16,
    "lenVar": 40
   },
   "kernels_config": {
    "python": {
     "delete_cmd_postfix": "",
     "delete_cmd_prefix": "del ",
     "library": "var_list.py",
     "varRefreshCmd": "print(var_dic_list())"
    },
    "r": {
     "delete_cmd_postfix": ") ",
     "delete_cmd_prefix": "rm(",
     "library": "var_list.r",
     "varRefreshCmd": "cat(var_dic_list()) "
    }
   },
   "types_to_exclude": [
    "module",
    "function",
    "builtin_function_or_method",
    "instance",
    "_Feature"
   ],
   "window_display": false
  }
 },
 "nbformat": 4,
 "nbformat_minor": 4
}
