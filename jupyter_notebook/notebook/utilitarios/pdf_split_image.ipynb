{
 "cells": [
  {
   "cell_type": "markdown",
   "metadata": {},
   "source": [
    "# Extrair imagens do PDF"
   ]
  },
  {
   "cell_type": "markdown",
   "metadata": {},
   "source": [
    "## Setup"
   ]
  },
  {
   "cell_type": "code",
   "execution_count": 25,
   "metadata": {
    "ExecuteTime": {
     "end_time": "2020-09-10T23:15:39.938838Z",
     "start_time": "2020-09-10T23:15:39.930836Z"
    },
    "tags": [
     "#setup"
    ]
   },
   "outputs": [],
   "source": [
    "import os, sys, platform\n",
    "if os.path.abspath('../../src') not in sys.path:\n",
    "    sys.path.insert(0, os.path.abspath('../../src'))\n",
    "if platform.system() == 'Windows':\n",
    "    os.environ['COMSPEC'] = 'powershell'\n",
    "FILE_DIR = os.path.abspath('../../files')"
   ]
  },
  {
   "cell_type": "markdown",
   "metadata": {},
   "source": [
    "## Extrair imagens do PDF"
   ]
  },
  {
   "cell_type": "code",
   "execution_count": 26,
   "metadata": {
    "ExecuteTime": {
     "end_time": "2020-09-10T23:15:49.964026Z",
     "start_time": "2020-09-10T23:15:39.944837Z"
    },
    "tags": [
     "=>setup"
    ]
   },
   "outputs": [
    {
     "name": "stdout",
     "output_type": "stream",
     "text": [
      "[+] Foi encontrado um total de 1 imagens dentro da pagina 1\n",
      "[+] Foi encontrado um total de 1 imagens dentro da pagina 2\n",
      "[+] Foi encontrado um total de 1 imagens dentro da pagina 3\n",
      "[+] Foi encontrado um total de 1 imagens dentro da pagina 4\n",
      "[+] Foi encontrado um total de 1 imagens dentro da pagina 5\n",
      "[+] Foi encontrado um total de 1 imagens dentro da pagina 6\n",
      "[+] Foi encontrado um total de 1 imagens dentro da pagina 7\n",
      "[+] Foi encontrado um total de 1 imagens dentro da pagina 8\n",
      "[+] Foi encontrado um total de 1 imagens dentro da pagina 9\n",
      "[+] Foi encontrado um total de 1 imagens dentro da pagina 10\n",
      "[+] Foi encontrado um total de 1 imagens dentro da pagina 11\n",
      "[+] Foi encontrado um total de 1 imagens dentro da pagina 12\n",
      "[+] Foi encontrado um total de 1 imagens dentro da pagina 13\n",
      "[+] Foi encontrado um total de 1 imagens dentro da pagina 14\n",
      "Execução finalizada!\n"
     ]
    }
   ],
   "source": [
    "import fitz # PyMuPDF\n",
    "import io\n",
    "from PIL import Image\n",
    "\n",
    "file_name = 'Portifolio_online_MaryHill.pdf'\n",
    "file_input = os.path.join(FILE_DIR, 'pdf_edit', file_name)\n",
    "file_mask = os.path.join(FILE_DIR, 'pdf_edit', re.sub(r'^(.+)(\\..+)', r'\\1.{0}.{1}', file_name))\n",
    "\n",
    "pdf_file = fitz.open(file_input)\n",
    "for page_index in range(len(pdf_file)):\n",
    "    page = pdf_file[page_index]\n",
    "    image_list = page.getImageList()\n",
    "    if image_list:\n",
    "        print(f'[+] Foi encontrado um total de {len(image_list)} imagens dentro da pagina {page_index + 1}')\n",
    "    else:\n",
    "        print('[!] Não foi encontrada nenhuma imagem na pagina', page_index)\n",
    "    for image_index, img in enumerate(page.getImageList(), start=1):\n",
    "        xref = img[0]\n",
    "        base_image = pdf_file.extractImage(xref)\n",
    "        image_bytes = base_image['image']\n",
    "        image_ext = base_image['ext']\n",
    "        image = Image.open(io.BytesIO(image_bytes))\n",
    "        file_output = file_mask.format(str(page_index + 1), image_ext)\n",
    "        image.save(open(file_output, 'wb'))\n",
    "\n",
    "print('Execução finalizada!')\n"
   ]
  }
 ],
 "metadata": {
  "celltoolbar": "Tags",
  "hide_input": false,
  "kernelspec": {
   "display_name": "Python 3",
   "language": "python",
   "name": "python3"
  },
  "language_info": {
   "codemirror_mode": {
    "name": "ipython",
    "version": 3
   },
   "file_extension": ".py",
   "mimetype": "text/x-python",
   "name": "python",
   "nbconvert_exporter": "python",
   "pygments_lexer": "ipython3",
   "version": "3.6.8"
  },
  "toc": {
   "base_numbering": 1,
   "nav_menu": {},
   "number_sections": true,
   "sideBar": true,
   "skip_h1_title": false,
   "title_cell": "Table of Contents",
   "title_sidebar": "Contents",
   "toc_cell": false,
   "toc_position": {},
   "toc_section_display": true,
   "toc_window_display": true
  },
  "varInspector": {
   "cols": {
    "lenName": 16,
    "lenType": 16,
    "lenVar": 40
   },
   "kernels_config": {
    "python": {
     "delete_cmd_postfix": "",
     "delete_cmd_prefix": "del ",
     "library": "var_list.py",
     "varRefreshCmd": "print(var_dic_list())"
    },
    "r": {
     "delete_cmd_postfix": ") ",
     "delete_cmd_prefix": "rm(",
     "library": "var_list.r",
     "varRefreshCmd": "cat(var_dic_list()) "
    }
   },
   "types_to_exclude": [
    "module",
    "function",
    "builtin_function_or_method",
    "instance",
    "_Feature"
   ],
   "window_display": false
  }
 },
 "nbformat": 4,
 "nbformat_minor": 4
}
