{
 "cells": [
  {
   "cell_type": "markdown",
   "metadata": {},
   "source": [
    "# Divisor de PDF"
   ]
  },
  {
   "cell_type": "markdown",
   "metadata": {},
   "source": [
    "## Setup"
   ]
  },
  {
   "cell_type": "code",
   "execution_count": 1,
   "metadata": {
    "ExecuteTime": {
     "end_time": "2020-09-10T19:42:15.785353Z",
     "start_time": "2020-09-10T19:42:15.763331Z"
    },
    "tags": [
     "#setup"
    ]
   },
   "outputs": [],
   "source": [
    "import os, sys, platform\n",
    "if os.path.abspath('../../src') not in sys.path:\n",
    "    sys.path.insert(0, os.path.abspath('../../src'))\n",
    "if platform.system() == 'Windows':\n",
    "    os.environ['COMSPEC'] = 'powershell'\n",
    "FILE_DIR = os.path.abspath('../../files')"
   ]
  },
  {
   "cell_type": "markdown",
   "metadata": {},
   "source": [
    "## Gerar 1 pdf por pagina"
   ]
  },
  {
   "cell_type": "code",
   "execution_count": 2,
   "metadata": {
    "ExecuteTime": {
     "end_time": "2020-09-10T19:42:18.084349Z",
     "start_time": "2020-09-10T19:42:15.790332Z"
    },
    "tags": [
     "=>setup"
    ]
   },
   "outputs": [
    {
     "name": "stdout",
     "output_type": "stream",
     "text": [
      "Arquivo lido: C:\\Users\\Ape11\\workspace\\ape11-notebook\\ape11_notebook\\files\\pdf_edit\\Portifolio_online_MaryHill.pdf\n",
      "Arquivo gerado: C:\\Users\\Ape11\\workspace\\ape11-notebook\\ape11_notebook\\files\\pdf_edit\\Portifolio_online_MaryHill.1.pdf\n",
      "Arquivo gerado: C:\\Users\\Ape11\\workspace\\ape11-notebook\\ape11_notebook\\files\\pdf_edit\\Portifolio_online_MaryHill.2.pdf\n",
      "Arquivo gerado: C:\\Users\\Ape11\\workspace\\ape11-notebook\\ape11_notebook\\files\\pdf_edit\\Portifolio_online_MaryHill.3.pdf\n",
      "Arquivo gerado: C:\\Users\\Ape11\\workspace\\ape11-notebook\\ape11_notebook\\files\\pdf_edit\\Portifolio_online_MaryHill.4.pdf\n",
      "Arquivo gerado: C:\\Users\\Ape11\\workspace\\ape11-notebook\\ape11_notebook\\files\\pdf_edit\\Portifolio_online_MaryHill.5.pdf\n",
      "Arquivo gerado: C:\\Users\\Ape11\\workspace\\ape11-notebook\\ape11_notebook\\files\\pdf_edit\\Portifolio_online_MaryHill.6.pdf\n",
      "Arquivo gerado: C:\\Users\\Ape11\\workspace\\ape11-notebook\\ape11_notebook\\files\\pdf_edit\\Portifolio_online_MaryHill.7.pdf\n",
      "Arquivo gerado: C:\\Users\\Ape11\\workspace\\ape11-notebook\\ape11_notebook\\files\\pdf_edit\\Portifolio_online_MaryHill.8.pdf\n",
      "Arquivo gerado: C:\\Users\\Ape11\\workspace\\ape11-notebook\\ape11_notebook\\files\\pdf_edit\\Portifolio_online_MaryHill.9.pdf\n",
      "Arquivo gerado: C:\\Users\\Ape11\\workspace\\ape11-notebook\\ape11_notebook\\files\\pdf_edit\\Portifolio_online_MaryHill.10.pdf\n",
      "Arquivo gerado: C:\\Users\\Ape11\\workspace\\ape11-notebook\\ape11_notebook\\files\\pdf_edit\\Portifolio_online_MaryHill.11.pdf\n",
      "Arquivo gerado: C:\\Users\\Ape11\\workspace\\ape11-notebook\\ape11_notebook\\files\\pdf_edit\\Portifolio_online_MaryHill.12.pdf\n",
      "Arquivo gerado: C:\\Users\\Ape11\\workspace\\ape11-notebook\\ape11_notebook\\files\\pdf_edit\\Portifolio_online_MaryHill.13.pdf\n",
      "Arquivo gerado: C:\\Users\\Ape11\\workspace\\ape11-notebook\\ape11_notebook\\files\\pdf_edit\\Portifolio_online_MaryHill.14.pdf\n",
      "Execução finalizada!\n"
     ]
    }
   ],
   "source": [
    "import os\n",
    "import re\n",
    "from PyPDF2 import PdfFileWriter, PdfFileReader\n",
    "\n",
    "file_name = 'Portifolio_online_MaryHill.pdf'\n",
    "file_input = os.path.join(FILE_DIR, 'pdf_edit', file_name)\n",
    "file_mask = os.path.join(FILE_DIR, 'pdf_edit', re.sub(r'^(.+)(\\..+)', r'\\1.{}\\2', file_name))\n",
    "\n",
    "with open(file_input, 'rb') as pdf_binary:\n",
    "    \n",
    "    print('Arquivo lido: {}'.format(file_input))\n",
    "    inputpdf = PdfFileReader(pdf_binary)\n",
    "\n",
    "    for i in range(inputpdf.numPages):\n",
    "\n",
    "        # Compressão dos arquivos\n",
    "        page = inputpdf.getPage(i)\n",
    "        page.compressContentStreams()\n",
    "        \n",
    "        output = PdfFileWriter()\n",
    "        output.addPage(page)\n",
    "\n",
    "        file_output = file_mask.format(str(i + 1))\n",
    "        with open(file_output, 'wb') as outputStream:\n",
    "            output.write(outputStream)\n",
    "        \n",
    "        print('Arquivo gerado: {}'.format(file_output))\n",
    "\n",
    "print('Execução finalizada!')\n"
   ]
  }
 ],
 "metadata": {
  "celltoolbar": "Tags",
  "hide_input": false,
  "kernelspec": {
   "display_name": "Python 3",
   "language": "python",
   "name": "python3"
  },
  "language_info": {
   "codemirror_mode": {
    "name": "ipython",
    "version": 3
   },
   "file_extension": ".py",
   "mimetype": "text/x-python",
   "name": "python",
   "nbconvert_exporter": "python",
   "pygments_lexer": "ipython3",
   "version": "3.6.8"
  },
  "toc": {
   "base_numbering": 1,
   "nav_menu": {},
   "number_sections": true,
   "sideBar": true,
   "skip_h1_title": false,
   "title_cell": "Table of Contents",
   "title_sidebar": "Contents",
   "toc_cell": false,
   "toc_position": {},
   "toc_section_display": true,
   "toc_window_display": false
  },
  "varInspector": {
   "cols": {
    "lenName": 16,
    "lenType": 16,
    "lenVar": 40
   },
   "kernels_config": {
    "python": {
     "delete_cmd_postfix": "",
     "delete_cmd_prefix": "del ",
     "library": "var_list.py",
     "varRefreshCmd": "print(var_dic_list())"
    },
    "r": {
     "delete_cmd_postfix": ") ",
     "delete_cmd_prefix": "rm(",
     "library": "var_list.r",
     "varRefreshCmd": "cat(var_dic_list()) "
    }
   },
   "types_to_exclude": [
    "module",
    "function",
    "builtin_function_or_method",
    "instance",
    "_Feature"
   ],
   "window_display": false
  }
 },
 "nbformat": 4,
 "nbformat_minor": 4
}
