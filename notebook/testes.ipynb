{
 "cells": [
  {
   "cell_type": "code",
   "execution_count": 19,
   "metadata": {},
   "outputs": [
    {
     "name": "stdout",
     "output_type": "stream",
     "text": [
      "Numero: 1\n",
      "Python 3.8\n",
      "Numero: 2\n"
     ]
    }
   ],
   "source": [
    "numero = 1\n",
    "print('Numero:', numero)\n",
    "if (numero := numero + 1) == 2:\n",
    "    print('Python 3.8')\n",
    "    print('Numero:', numero)\n",
    "else:\n",
    "    print('Jupyter não roda no Python 3.8')"
   ]
  },
  {
   "cell_type": "code",
   "execution_count": 21,
   "metadata": {},
   "outputs": [
    {
     "data": {
      "text/plain": [
       "'/home/imovelai/workspace/services/jupyter/notebook'"
      ]
     },
     "execution_count": 21,
     "metadata": {},
     "output_type": "execute_result"
    }
   ],
   "source": [
    "output = ! pwd\n",
    "output[0]"
   ]
  },
  {
   "cell_type": "code",
   "execution_count": 23,
   "metadata": {},
   "outputs": [
    {
     "data": {
      "text/plain": [
       "'/home/imovelai/workspace/services/jupyter/notebook\\n'"
      ]
     },
     "execution_count": 23,
     "metadata": {},
     "output_type": "execute_result"
    }
   ],
   "source": [
    "import subprocess\n",
    "output = subprocess.check_output(\"pwd\", shell=True)\n",
    "output.decode('utf-8')"
   ]
  },
  {
   "cell_type": "code",
   "execution_count": 25,
   "metadata": {},
   "outputs": [
    {
     "data": {
      "text/plain": [
       "'/home/imovelai/workspace/services/jupyter/notebook\\n'"
      ]
     },
     "execution_count": 25,
     "metadata": {},
     "output_type": "execute_result"
    }
   ],
   "source": [
    "def shell_exec(command):\n",
    "    from subprocess import PIPE, run\n",
    "    result = run(command, stdout=PIPE, stderr=PIPE, universal_newlines=True, shell=True)\n",
    "    return result.stdout\n",
    "\n",
    "shell_exec('pwd')"
   ]
  },
  {
   "cell_type": "code",
   "execution_count": 19,
   "metadata": {
    "ExecuteTime": {
     "end_time": "2019-07-24T17:43:53.391518Z",
     "start_time": "2019-07-24T17:43:53.384413Z"
    }
   },
   "outputs": [],
   "source": [
    "class ToString:\n",
    "    def __new__(self, *args):\n",
    "        import json\n",
    "        return json.dumps(args if len(args) != 1 else args[0])"
   ]
  },
  {
   "cell_type": "code",
   "execution_count": 20,
   "metadata": {
    "ExecuteTime": {
     "end_time": "2019-07-24T17:43:55.677673Z",
     "start_time": "2019-07-24T17:43:55.670329Z"
    }
   },
   "outputs": [
    {
     "data": {
      "text/plain": [
       "'[2, 3, 4, 5]'"
      ]
     },
     "execution_count": 20,
     "metadata": {},
     "output_type": "execute_result"
    }
   ],
   "source": [
    "ToString(2, 3, 4, 5)"
   ]
  },
  {
   "cell_type": "code",
   "execution_count": 22,
   "metadata": {
    "ExecuteTime": {
     "end_time": "2019-07-24T17:54:38.552072Z",
     "start_time": "2019-07-24T17:54:38.542827Z"
    }
   },
   "outputs": [],
   "source": [
    "class WebResponse:\n",
    "    \"\"\"Web Response Geral\"\"\"\n",
    "    def __new__(cls, *args, **kargs):\n",
    "        import json\n",
    "        message = kargs.get('message', args[0] if len(args) > 0 else '')\n",
    "        status = kargs.get('status', args[1] if len(args) > 1 else 500)\n",
    "        if not isinstance(status, int):\n",
    "            status = 500\n",
    "        return json.dumps({'message': message, 'status':status})"
   ]
  },
  {
   "cell_type": "code",
   "execution_count": 24,
   "metadata": {
    "ExecuteTime": {
     "end_time": "2019-07-24T17:55:17.803637Z",
     "start_time": "2019-07-24T17:55:17.796133Z"
    }
   },
   "outputs": [
    {
     "ename": "SyntaxError",
     "evalue": "positional argument follows keyword argument (<ipython-input-24-34ad2a304873>, line 1)",
     "output_type": "error",
     "traceback": [
      "\u001b[0;36m  File \u001b[0;32m\"<ipython-input-24-34ad2a304873>\"\u001b[0;36m, line \u001b[0;32m1\u001b[0m\n\u001b[0;31m    WebResponse(message='xururu', 200)\u001b[0m\n\u001b[0m                                 ^\u001b[0m\n\u001b[0;31mSyntaxError\u001b[0m\u001b[0;31m:\u001b[0m positional argument follows keyword argument\n"
     ]
    }
   ],
   "source": [
    "WebResponse(message='xururu', 200)"
   ]
  },
  {
   "cell_type": "code",
   "execution_count": 25,
   "metadata": {
    "ExecuteTime": {
     "end_time": "2019-07-24T17:57:32.712336Z",
     "start_time": "2019-07-24T17:57:32.709412Z"
    }
   },
   "outputs": [],
   "source": [
    "a = 0"
   ]
  },
  {
   "cell_type": "code",
   "execution_count": 27,
   "metadata": {
    "ExecuteTime": {
     "end_time": "2019-07-24T18:02:39.392562Z",
     "start_time": "2019-07-24T18:02:39.388373Z"
    }
   },
   "outputs": [],
   "source": [
    "lista_teste = list()"
   ]
  },
  {
   "cell_type": "code",
   "execution_count": 29,
   "metadata": {
    "ExecuteTime": {
     "end_time": "2019-07-24T18:03:01.124248Z",
     "start_time": "2019-07-24T18:03:01.117532Z"
    }
   },
   "outputs": [],
   "source": [
    "lista_teste.append('Douglas')"
   ]
  },
  {
   "cell_type": "code",
   "execution_count": 31,
   "metadata": {
    "ExecuteTime": {
     "end_time": "2019-07-24T18:03:22.495323Z",
     "start_time": "2019-07-24T18:03:22.484242Z"
    },
    "scrolled": true
   },
   "outputs": [
    {
     "ename": "AttributeError",
     "evalue": "'list' object has no attribute 'get'",
     "output_type": "error",
     "traceback": [
      "\u001b[0;31m---------------------------------------------------------------------------\u001b[0m",
      "\u001b[0;31mAttributeError\u001b[0m                            Traceback (most recent call last)",
      "\u001b[0;32m<ipython-input-31-f1c067537d1e>\u001b[0m in \u001b[0;36m<module>\u001b[0;34m\u001b[0m\n\u001b[0;32m----> 1\u001b[0;31m \u001b[0mlista_teste\u001b[0m\u001b[0;34m.\u001b[0m\u001b[0mget\u001b[0m\u001b[0;34m(\u001b[0m\u001b[0;36m0\u001b[0m\u001b[0;34m)\u001b[0m\u001b[0;34m\u001b[0m\u001b[0;34m\u001b[0m\u001b[0m\n\u001b[0m",
      "\u001b[0;31mAttributeError\u001b[0m: 'list' object has no attribute 'get'"
     ]
    }
   ],
   "source": [
    "lista_teste.get(0)"
   ]
  },
  {
   "cell_type": "code",
   "execution_count": 23,
   "metadata": {
    "ExecuteTime": {
     "end_time": "2019-07-25T15:36:20.624312Z",
     "start_time": "2019-07-25T15:36:20.619543Z"
    }
   },
   "outputs": [],
   "source": [
    "import re\n",
    "telefone = \"5511964601010\""
   ]
  },
  {
   "cell_type": "code",
   "execution_count": 24,
   "metadata": {
    "ExecuteTime": {
     "end_time": "2019-07-25T15:36:23.076300Z",
     "start_time": "2019-07-25T15:36:23.067854Z"
    }
   },
   "outputs": [
    {
     "data": {
      "text/plain": [
       "'(11) 96460-1010'"
      ]
     },
     "execution_count": 24,
     "metadata": {},
     "output_type": "execute_result"
    }
   ],
   "source": [
    "telefone1 = re.sub(r'(whatsapp:)?\\+?55', '', telefone)\n",
    "telefone2 = re.sub(r'^([0-9]{2})([0-9]{4,5})([0-9]{4})$', r'(\\1) \\2-\\3', telefone1)\n",
    "telefone2"
   ]
  },
  {
   "cell_type": "code",
   "execution_count": 26,
   "metadata": {
    "ExecuteTime": {
     "end_time": "2019-07-25T17:39:41.065878Z",
     "start_time": "2019-07-25T17:39:41.061744Z"
    }
   },
   "outputs": [],
   "source": [
    "mensagem = {'nome': 'Douglas', 'idade': 20}"
   ]
  },
  {
   "cell_type": "code",
   "execution_count": 27,
   "metadata": {
    "ExecuteTime": {
     "end_time": "2019-07-25T17:39:55.813820Z",
     "start_time": "2019-07-25T17:39:55.810196Z"
    }
   },
   "outputs": [],
   "source": [
    "_mensagem = {'idade': 34}"
   ]
  },
  {
   "cell_type": "markdown",
   "metadata": {
    "ExecuteTime": {
     "end_time": "2019-07-25T17:40:18.597025Z",
     "start_time": "2019-07-25T17:40:18.590980Z"
    }
   },
   "source": [
    "mensagem.update(_mensagem)"
   ]
  },
  {
   "cell_type": "code",
   "execution_count": 31,
   "metadata": {
    "ExecuteTime": {
     "end_time": "2019-07-25T17:40:26.975927Z",
     "start_time": "2019-07-25T17:40:26.969227Z"
    },
    "scrolled": true
   },
   "outputs": [
    {
     "data": {
      "text/plain": [
       "{'nome': 'Douglas', 'idade': 34}"
      ]
     },
     "execution_count": 31,
     "metadata": {},
     "output_type": "execute_result"
    }
   ],
   "source": [
    "mensagem"
   ]
  },
  {
   "cell_type": "code",
   "execution_count": 3,
   "metadata": {
    "ExecuteTime": {
     "end_time": "2019-07-25T21:14:34.934883Z",
     "start_time": "2019-07-25T21:14:34.930724Z"
    }
   },
   "outputs": [],
   "source": [
    "import os, sys\n",
    "base_dir = os.getcwd()"
   ]
  },
  {
   "cell_type": "code",
   "execution_count": 4,
   "metadata": {
    "ExecuteTime": {
     "end_time": "2019-07-25T21:14:58.945686Z",
     "start_time": "2019-07-25T21:14:58.941026Z"
    }
   },
   "outputs": [
    {
     "data": {
      "text/plain": [
       "'/home/imovelai/workspace/services/jupyter/notebook'"
      ]
     },
     "execution_count": 4,
     "metadata": {},
     "output_type": "execute_result"
    }
   ],
   "source": [
    "base_dir"
   ]
  },
  {
   "cell_type": "code",
   "execution_count": 1,
   "metadata": {
    "ExecuteTime": {
     "end_time": "2019-07-25T21:22:02.454441Z",
     "start_time": "2019-07-25T21:22:02.450715Z"
    }
   },
   "outputs": [],
   "source": [
    "import os, sys\n",
    "base_dir = os.getcwd()\n",
    "modulo_dir = base_dir + '/modules'\n",
    "sys.path.insert(0, modulo_dir)"
   ]
  },
  {
   "cell_type": "code",
   "execution_count": 1,
   "metadata": {
    "ExecuteTime": {
     "end_time": "2019-07-25T21:22:31.611074Z",
     "start_time": "2019-07-25T21:22:31.606193Z"
    }
   },
   "outputs": [],
   "source": [
    "import os, sys\n",
    "base_dir = os.getcwd()\n",
    "modulo_dir = base_dir + '/modules'\n",
    "sys.path.append(modulo_dir)"
   ]
  },
  {
   "cell_type": "code",
   "execution_count": 3,
   "metadata": {
    "ExecuteTime": {
     "end_time": "2019-07-25T21:20:22.844460Z",
     "start_time": "2019-07-25T21:20:22.840224Z"
    }
   },
   "outputs": [],
   "source": [
    "import modulo_teste"
   ]
  },
  {
   "cell_type": "code",
   "execution_count": 4,
   "metadata": {
    "ExecuteTime": {
     "end_time": "2019-07-25T21:20:24.872862Z",
     "start_time": "2019-07-25T21:20:24.868822Z"
    }
   },
   "outputs": [
    {
     "name": "stdout",
     "output_type": "stream",
     "text": [
      "Teste do modulo!\n"
     ]
    }
   ],
   "source": [
    "modulo_teste.teste()"
   ]
  },
  {
   "cell_type": "code",
   "execution_count": 2,
   "metadata": {
    "ExecuteTime": {
     "end_time": "2019-07-25T21:22:38.529662Z",
     "start_time": "2019-07-25T21:22:38.511498Z"
    }
   },
   "outputs": [
    {
     "data": {
      "text/plain": [
       "['/home/imovelai/workspace/services/jupyter/venv/lib/python36.zip',\n",
       " '/home/imovelai/workspace/services/jupyter/venv/lib/python3.6',\n",
       " '/home/imovelai/workspace/services/jupyter/venv/lib/python3.6/lib-dynload',\n",
       " '/home/imovelai/workspace/runtimes/python/3.6.9/lib/python3.6',\n",
       " '',\n",
       " '/home/imovelai/workspace/services/jupyter/venv/lib/python3.6/site-packages',\n",
       " '/home/imovelai/workspace/services/jupyter/venv/lib/python3.6/site-packages/IPython/extensions',\n",
       " '/home/imovelai/.ipython',\n",
       " '/home/imovelai/workspace/services/jupyter/notebook/modules']"
      ]
     },
     "execution_count": 2,
     "metadata": {},
     "output_type": "execute_result"
    }
   ],
   "source": [
    "sys.path"
   ]
  },
  {
   "cell_type": "code",
   "execution_count": 1,
   "metadata": {
    "ExecuteTime": {
     "end_time": "2019-07-29T19:19:54.590088Z",
     "start_time": "2019-07-29T19:19:54.586925Z"
    }
   },
   "outputs": [],
   "source": [
    "de_para = {\n",
    "    'Ar Condicionado': '123',\n",
    "    'Geladeira': 'ABC'\n",
    "}"
   ]
  },
  {
   "cell_type": "code",
   "execution_count": 7,
   "metadata": {
    "ExecuteTime": {
     "end_time": "2019-07-29T19:20:49.012902Z",
     "start_time": "2019-07-29T19:20:49.008115Z"
    }
   },
   "outputs": [],
   "source": [
    "dominio = 'Ar Condicionado'"
   ]
  },
  {
   "cell_type": "code",
   "execution_count": 8,
   "metadata": {
    "ExecuteTime": {
     "end_time": "2019-07-29T19:20:51.045740Z",
     "start_time": "2019-07-29T19:20:51.038119Z"
    }
   },
   "outputs": [
    {
     "data": {
      "text/plain": [
       "'123'"
      ]
     },
     "execution_count": 8,
     "metadata": {},
     "output_type": "execute_result"
    }
   ],
   "source": [
    "de_para[dominio]"
   ]
  },
  {
   "cell_type": "code",
   "execution_count": 5,
   "metadata": {
    "ExecuteTime": {
     "end_time": "2019-08-01T17:31:14.754967Z",
     "start_time": "2019-08-01T17:31:14.752025Z"
    }
   },
   "outputs": [],
   "source": [
    "from datetime import datetime"
   ]
  },
  {
   "cell_type": "code",
   "execution_count": 6,
   "metadata": {
    "ExecuteTime": {
     "end_time": "2019-08-01T17:31:17.354917Z",
     "start_time": "2019-08-01T17:31:17.351951Z"
    }
   },
   "outputs": [],
   "source": [
    "data = datetime.now()"
   ]
  },
  {
   "cell_type": "code",
   "execution_count": 12,
   "metadata": {
    "ExecuteTime": {
     "end_time": "2019-08-01T17:32:15.699772Z",
     "start_time": "2019-08-01T17:32:15.694548Z"
    }
   },
   "outputs": [
    {
     "data": {
      "text/plain": [
       "'2019-08-01'"
      ]
     },
     "execution_count": 12,
     "metadata": {},
     "output_type": "execute_result"
    }
   ],
   "source": [
    "data.strftime(\"%Y-%m-%d\")"
   ]
  },
  {
   "cell_type": "code",
   "execution_count": 14,
   "metadata": {
    "ExecuteTime": {
     "end_time": "2019-08-01T19:11:14.097651Z",
     "start_time": "2019-08-01T19:11:14.090883Z"
    }
   },
   "outputs": [],
   "source": [
    "pessoa = {'nome': 'Douglas', 'idade': 23}"
   ]
  },
  {
   "cell_type": "code",
   "execution_count": 15,
   "metadata": {
    "ExecuteTime": {
     "end_time": "2019-08-01T19:11:24.318424Z",
     "start_time": "2019-08-01T19:11:24.313678Z"
    }
   },
   "outputs": [
    {
     "data": {
      "text/plain": [
       "23"
      ]
     },
     "execution_count": 15,
     "metadata": {},
     "output_type": "execute_result"
    }
   ],
   "source": [
    "pessoa.pop('idade')"
   ]
  },
  {
   "cell_type": "code",
   "execution_count": 16,
   "metadata": {
    "ExecuteTime": {
     "end_time": "2019-08-01T19:11:31.325836Z",
     "start_time": "2019-08-01T19:11:31.320546Z"
    }
   },
   "outputs": [
    {
     "data": {
      "text/plain": [
       "{'nome': 'Douglas'}"
      ]
     },
     "execution_count": 16,
     "metadata": {},
     "output_type": "execute_result"
    }
   ],
   "source": [
    "pessoa"
   ]
  },
  {
   "cell_type": "code",
   "execution_count": 17,
   "metadata": {
    "ExecuteTime": {
     "end_time": "2019-08-01T19:13:13.928302Z",
     "start_time": "2019-08-01T19:13:13.924348Z"
    }
   },
   "outputs": [],
   "source": [
    "del pessoa['nome']"
   ]
  },
  {
   "cell_type": "code",
   "execution_count": 24,
   "metadata": {
    "ExecuteTime": {
     "end_time": "2019-08-01T20:58:42.335497Z",
     "start_time": "2019-08-01T20:58:42.330192Z"
    }
   },
   "outputs": [],
   "source": [
    "def somente_numeros_cnpf(num_str: str) -> str:\n",
    "    import re\n",
    "    result = ''.join(re.findall(r'[0-9]', num_str))\n",
    "    return result.zfill(14)\n",
    "def somente_numeros_cpf(num_str: str) -> str:\n",
    "    import re\n",
    "    result = ''.join(re.findall(r'[0-9]', num_str))\n",
    "    return result.zfill(11)"
   ]
  },
  {
   "cell_type": "code",
   "execution_count": 25,
   "metadata": {
    "ExecuteTime": {
     "end_time": "2019-08-01T20:58:45.661869Z",
     "start_time": "2019-08-01T20:58:45.656690Z"
    }
   },
   "outputs": [
    {
     "data": {
      "text/plain": [
       "'49700370000120'"
      ]
     },
     "execution_count": 25,
     "metadata": {},
     "output_type": "execute_result"
    }
   ],
   "source": [
    "somente_numeros_cnpf('49.700.370/0001-20')"
   ]
  },
  {
   "cell_type": "code",
   "execution_count": 1,
   "metadata": {
    "ExecuteTime": {
     "end_time": "2019-08-02T12:29:22.009436Z",
     "start_time": "2019-08-02T12:29:22.006496Z"
    }
   },
   "outputs": [],
   "source": [
    "lista_nomes = ['Douglas', 'Pedro']"
   ]
  },
  {
   "cell_type": "code",
   "execution_count": 4,
   "metadata": {
    "ExecuteTime": {
     "end_time": "2019-08-02T12:30:19.654173Z",
     "start_time": "2019-08-02T12:30:19.648075Z"
    },
    "scrolled": true
   },
   "outputs": [
    {
     "data": {
      "text/plain": [
       "\"['Douglas', 'Pedro']\""
      ]
     },
     "execution_count": 4,
     "metadata": {},
     "output_type": "execute_result"
    }
   ],
   "source": [
    "str(lista_nomes)"
   ]
  },
  {
   "cell_type": "code",
   "execution_count": 1,
   "metadata": {
    "ExecuteTime": {
     "end_time": "2019-08-12T15:48:07.922708Z",
     "start_time": "2019-08-12T15:48:07.919243Z"
    }
   },
   "outputs": [],
   "source": [
    "nome=\"Douglas\"\n",
    "sobrenome=\"Panhota\""
   ]
  },
  {
   "cell_type": "code",
   "execution_count": 2,
   "metadata": {
    "ExecuteTime": {
     "end_time": "2019-08-12T15:48:53.650216Z",
     "start_time": "2019-08-12T15:48:53.630160Z"
    }
   },
   "outputs": [
    {
     "data": {
      "text/plain": [
       "{'nome': 'Douglas', 'sobrenome': 'Panhota'}"
      ]
     },
     "execution_count": 2,
     "metadata": {},
     "output_type": "execute_result"
    }
   ],
   "source": [
    "dict(((k, eval(k)) for k in ('nome', 'sobrenome')))"
   ]
  },
  {
   "cell_type": "code",
   "execution_count": 2,
   "metadata": {
    "ExecuteTime": {
     "end_time": "2019-08-22T20:44:39.157414Z",
     "start_time": "2019-08-22T20:44:39.144510Z"
    }
   },
   "outputs": [
    {
     "data": {
      "text/plain": [
       "'bbbb'"
      ]
     },
     "execution_count": 2,
     "metadata": {},
     "output_type": "execute_result"
    }
   ],
   "source": [
    "lista = ['aaaa', 'bbbb']\n",
    "lista.pop()"
   ]
  },
  {
   "cell_type": "code",
   "execution_count": 4,
   "metadata": {
    "ExecuteTime": {
     "end_time": "2019-09-19T13:56:22.286339Z",
     "start_time": "2019-09-19T13:56:22.281443Z"
    }
   },
   "outputs": [],
   "source": [
    "def f_params(nome, idade):\n",
    "    print(f'{nome} / {idade}')"
   ]
  },
  {
   "cell_type": "code",
   "execution_count": 2,
   "metadata": {
    "ExecuteTime": {
     "end_time": "2019-09-19T13:55:38.301832Z",
     "start_time": "2019-09-19T13:55:38.298187Z"
    }
   },
   "outputs": [],
   "source": [
    "pessoa = {'nome': 'Douglas', 'idade': 20}"
   ]
  },
  {
   "cell_type": "code",
   "execution_count": 6,
   "metadata": {
    "ExecuteTime": {
     "end_time": "2019-09-19T13:56:41.598831Z",
     "start_time": "2019-09-19T13:56:41.594122Z"
    }
   },
   "outputs": [
    {
     "name": "stdout",
     "output_type": "stream",
     "text": [
      "Douglas / 20\n"
     ]
    }
   ],
   "source": [
    "f_params(**pessoa)"
   ]
  },
  {
   "cell_type": "code",
   "execution_count": 7,
   "metadata": {
    "ExecuteTime": {
     "end_time": "2019-09-19T14:08:49.849918Z",
     "start_time": "2019-09-19T14:08:49.844126Z"
    }
   },
   "outputs": [],
   "source": [
    "class Args:\n",
    "    def __init__(self):\n",
    "        pass"
   ]
  },
  {
   "cell_type": "code",
   "execution_count": 8,
   "metadata": {
    "ExecuteTime": {
     "end_time": "2019-09-19T14:09:15.806291Z",
     "start_time": "2019-09-19T14:09:15.800087Z"
    }
   },
   "outputs": [],
   "source": [
    "args = Args()\n",
    "args.lat = 123"
   ]
  },
  {
   "cell_type": "code",
   "execution_count": 9,
   "metadata": {
    "ExecuteTime": {
     "end_time": "2019-09-19T14:09:29.909563Z",
     "start_time": "2019-09-19T14:09:29.905579Z"
    }
   },
   "outputs": [
    {
     "name": "stdout",
     "output_type": "stream",
     "text": [
      "{'lat': 123}\n"
     ]
    }
   ],
   "source": [
    "print(repr(vars(args)))"
   ]
  },
  {
   "cell_type": "code",
   "execution_count": 12,
   "metadata": {
    "ExecuteTime": {
     "end_time": "2019-09-19T15:27:23.348628Z",
     "start_time": "2019-09-19T15:27:23.345527Z"
    }
   },
   "outputs": [],
   "source": [
    "from pydash import _"
   ]
  },
  {
   "cell_type": "code",
   "execution_count": 11,
   "metadata": {
    "ExecuteTime": {
     "end_time": "2019-09-19T15:26:17.382145Z",
     "start_time": "2019-09-19T15:26:17.375676Z"
    }
   },
   "outputs": [],
   "source": [
    "pessoaCamelCase = {'nomeCompleto': 'Douglas', 'idadeDeVida': 20}"
   ]
  },
  {
   "cell_type": "code",
   "execution_count": 13,
   "metadata": {
    "ExecuteTime": {
     "end_time": "2019-09-19T15:28:05.375883Z",
     "start_time": "2019-09-19T15:28:05.366581Z"
    }
   },
   "outputs": [
    {
     "name": "stdout",
     "output_type": "stream",
     "text": [
      "{'nome_completo': 'Douglas', 'idade_de_vida': 20}\n"
     ]
    }
   ],
   "source": [
    "pessoa_snake_case = dict()\n",
    "for key in pessoaCamelCase.keys():\n",
    "    pessoa_snake_case[_.snake_case(key)] = pessoaCamelCase[key]\n",
    "print(repr(pessoa_snake_case))"
   ]
  },
  {
   "cell_type": "code",
   "execution_count": 15,
   "metadata": {
    "ExecuteTime": {
     "end_time": "2019-09-19T17:09:31.146196Z",
     "start_time": "2019-09-19T17:09:31.124507Z"
    }
   },
   "outputs": [],
   "source": [
    "lista_campos = [\n",
    "    \"data_informacao\",\n",
    "    \"qtde_condominios\",\n",
    "    \"qtde_aptos\",\n",
    "    \"qtde_ofertas\",\n",
    "    \"escala_ofertas\",\n",
    "    \"tipo1_p10_area\",\n",
    "    \"tipo1_p25_area\",\n",
    "    \"tipo1_p50_area\",\n",
    "    \"tipo1_p75_area\",\n",
    "    \"tipo1_p90_area\",\n",
    "    \"tipo1_p10_preco\",\n",
    "    \"tipo1_p25_preco\",\n",
    "    \"tipo1_p50_preco\",\n",
    "    \"tipo1_p75_preco\",\n",
    "    \"tipo1_p90_preco\",\n",
    "    \"tipo1_p10_preco_m2\",\n",
    "    \"tipo1_p25_preco_m2\",\n",
    "    \"tipo1_p50_preco_m2\",\n",
    "    \"tipo1_p75_preco_m2\",\n",
    "    \"tipo1_p90_preco_m2\",\n",
    "    \"tipo1_p10_condominio\",\n",
    "    \"tipo1_p25_condominio\",\n",
    "    \"tipo1_p50_condominio\",\n",
    "    \"tipo1_p75_condominio\",\n",
    "    \"tipo1_p90_condominio\",\n",
    "    \"tipo1_p10_condominio_m2\",\n",
    "    \"tipo1_p25_condominio_m2\",\n",
    "    \"tipo1_p50_condominio_m2\",\n",
    "    \"tipo1_p75_condominio_m2\",\n",
    "    \"tipo1_p90_condominio_m2\",\n",
    "    \"tipo2_qtde_condominios\",\n",
    "    \"tipo2_qtde_aptos\",\n",
    "    \"tipo2_qtde_ofertas\",\n",
    "    \"tipo2_escala_ofertas\",\n",
    "    \"tipo2_p10_area\",\n",
    "    \"tipo2_p25_area\",\n",
    "    \"tipo2_p50_area\",\n",
    "    \"tipo2_p75_area\",\n",
    "    \"tipo2_p90_area\",\n",
    "    \"tipo2_p10_preco\",\n",
    "    \"tipo2_p25_preco\",\n",
    "    \"tipo2_p50_preco\",\n",
    "    \"tipo2_p75_preco\",\n",
    "    \"tipo2_p90_preco\",\n",
    "    \"tipo2_p10_preco_m2\",\n",
    "    \"tipo2_p25_preco_m2\",\n",
    "    \"tipo2_p50_preco_m2\",\n",
    "    \"tipo2_p75_preco_m2\",\n",
    "    \"tipo2_p90_preco_m2\",\n",
    "    \"tipo2_p10_condominio\",\n",
    "    \"tipo2_p25_condominio\",\n",
    "    \"tipo2_p50_condominio\",\n",
    "    \"tipo2_p75_condominio\",\n",
    "    \"tipo2_p90_condominio\",\n",
    "    \"tipo2_p10_condominio_m2\",\n",
    "    \"tipo2_p25_condominio_m2\",\n",
    "    \"tipo2_p50_condominio_m2\",\n",
    "    \"tipo2_p75_condominio_m2\",\n",
    "    \"tipo2_p90_condominio_m2\",\n",
    "    \"tipo3_qtde_condominios\",\n",
    "    \"tipo3_qtde_aptos\",\n",
    "    \"tipo3_qtde_ofertas\",\n",
    "    \"tipo3_escala_ofertas\",\n",
    "    \"tipo3_p10_area\",\n",
    "    \"tipo3_p25_area\",\n",
    "    \"tipo3_p50_area\",\n",
    "    \"tipo3_p75_area\",\n",
    "    \"tipo3_p90_area\",\n",
    "    \"tipo3_p10_preco\",\n",
    "    \"tipo3_p25_preco\",\n",
    "    \"tipo3_p50_preco\",\n",
    "    \"tipo3_p75_preco\",\n",
    "    \"tipo3_p90_preco\",\n",
    "    \"tipo3_p10_preco_m2\",\n",
    "    \"tipo3_p25_preco_m2\",\n",
    "    \"tipo3_p50_preco_m2\",\n",
    "    \"tipo3_p75_preco_m2\",\n",
    "    \"tipo3_p90_preco_m2\",\n",
    "    \"tipo3_p10_condominio\",\n",
    "    \"tipo3_p25_condominio\",\n",
    "    \"tipo3_p50_condominio\",\n",
    "    \"tipo3_p75_condominio\",\n",
    "    \"tipo3_p90_condominio\",\n",
    "    \"tipo3_p10_condominio_m2\",\n",
    "    \"tipo3_p25_condominio_m2\",\n",
    "    \"tipo3_p50_condominio_m2\",\n",
    "    \"tipo3_p75_condominio_m2\",\n",
    "    \"tipo3_p90_condominio_m2\",\n",
    "    \"tipo4_qtde_condominios\",\n",
    "    \"tipo4_qtde_aptos\",\n",
    "    \"tipo4_qtde_ofertas\",\n",
    "    \"tipo4_escala_ofertas\",\n",
    "    \"tipo4_p10_area\",\n",
    "    \"tipo4_p25_area\",\n",
    "    \"tipo4_p50_area\",\n",
    "    \"tipo4_p75_area\",\n",
    "    \"tipo4_p90_area\",\n",
    "    \"tipo4_p10_preco\",\n",
    "    \"tipo4_p25_preco\",\n",
    "    \"tipo4_p50_preco\",\n",
    "    \"tipo4_p75_preco\",\n",
    "    \"tipo4_p90_preco\",\n",
    "    \"tipo4_p10_preco_m2\",\n",
    "    \"tipo4_p25_preco_m2\",\n",
    "    \"tipo4_p50_preco_m2\",\n",
    "    \"tipo4_p75_preco_m2\",\n",
    "    \"tipo4_p90_preco_m2\",\n",
    "    \"tipo4_p10_condominio\",\n",
    "    \"tipo4_p25_condominio\",\n",
    "    \"tipo4_p50_condominio\",\n",
    "    \"tipo4_p75_condominio\",\n",
    "    \"tipo4_p90_condominio\",\n",
    "    \"tipo4_p10_condominio_m2\",\n",
    "    \"tipo4_p25_condominio_m2\",\n",
    "    \"tipo4_p50_condominio_m2\",\n",
    "    \"tipo4_p75_condominio_m2\",\n",
    "    \"tipo4_p90_condominio_m2\",\n",
    "    \"tipo5_qtde_condominios\",\n",
    "    \"tipo5_qtde_aptos\",\n",
    "    \"tipo5_qtde_ofertas\",\n",
    "    \"tipo5_escala_ofertas\",\n",
    "    \"tipo5_p10_area\",\n",
    "    \"tipo5_p25_area\",\n",
    "    \"tipo5_p50_area\",\n",
    "    \"tipo5_p75_area\",\n",
    "    \"tipo5_p90_area\",\n",
    "    \"tipo5_p10_preco\",\n",
    "    \"tipo5_p25_preco\",\n",
    "    \"tipo5_p50_preco\",\n",
    "    \"tipo5_p75_preco\",\n",
    "    \"tipo5_p90_preco\",\n",
    "    \"tipo5_p10_preco_m2\",\n",
    "    \"tipo5_p25_preco_m2\",\n",
    "    \"tipo5_p50_preco_m2\",\n",
    "    \"tipo5_p75_preco_m2\",\n",
    "    \"tipo5_p90_preco_m2\",\n",
    "    \"tipo5_p10_condominio\",\n",
    "    \"tipo5_p25_condominio\",\n",
    "    \"tipo5_p50_condominio\",\n",
    "    \"tipo5_p75_condominio\",\n",
    "    \"tipo5_p90_condominio\",\n",
    "    \"tipo5_p10_condominio_m2\",\n",
    "    \"tipo5_p25_condominio_m2\",\n",
    "    \"tipo5_p50_condominio_m2\",\n",
    "    \"tipo5_p75_condominio_m2\",\n",
    "    \"tipo5_p90_condominio_m2\"\n",
    "]"
   ]
  },
  {
   "cell_type": "code",
   "execution_count": 18,
   "metadata": {
    "ExecuteTime": {
     "end_time": "2019-09-19T17:10:47.016056Z",
     "start_time": "2019-09-19T17:10:47.010623Z"
    }
   },
   "outputs": [],
   "source": [
    "nova_lista = list(map(lambda c: _.camel_case(c) , lista_campos))"
   ]
  },
  {
   "cell_type": "code",
   "execution_count": 2,
   "metadata": {
    "ExecuteTime": {
     "end_time": "2019-10-01T17:21:36.555145Z",
     "start_time": "2019-10-01T17:21:36.550108Z"
    }
   },
   "outputs": [],
   "source": [
    "lista_publicidade = [\n",
    "        {\n",
    "          \"idPublicidade\": 8,\n",
    "          \"dataInicio\": \"2019-09-11\",\n",
    "          \"dataFim\": None\n",
    "        },\n",
    "        {\n",
    "          \"idPublicidade\": 9,\n",
    "          \"dataInicio\": \"2019-09-11\",\n",
    "          \"dataFim\": None\n",
    "        },\n",
    "        {\n",
    "          \"idPublicidade\": 10,\n",
    "          \"dataInicio\": \"2019-09-11\",\n",
    "          \"dataFim\": None\n",
    "        },\n",
    "        {\n",
    "          \"idPublicidade\": 11,\n",
    "          \"dataInicio\": \"2019-09-11\",\n",
    "          \"dataFim\": None\n",
    "        },\n",
    "        {\n",
    "          \"idPublicidade\": 12,\n",
    "          \"dataInicio\": \"2019-09-24\",\n",
    "          \"dataFim\": None\n",
    "        }\n",
    "      ]"
   ]
  },
  {
   "cell_type": "code",
   "execution_count": 3,
   "metadata": {
    "ExecuteTime": {
     "end_time": "2019-10-01T17:22:28.717730Z",
     "start_time": "2019-10-01T17:22:28.711742Z"
    }
   },
   "outputs": [],
   "source": [
    "lip = list(map(lambda p: p[\"idPublicidade\"], lista_publicidade))"
   ]
  },
  {
   "cell_type": "code",
   "execution_count": 4,
   "metadata": {
    "ExecuteTime": {
     "end_time": "2019-10-01T17:22:32.739322Z",
     "start_time": "2019-10-01T17:22:32.726368Z"
    }
   },
   "outputs": [
    {
     "data": {
      "text/plain": [
       "[8, 9, 10, 11, 12]"
      ]
     },
     "execution_count": 4,
     "metadata": {},
     "output_type": "execute_result"
    }
   ],
   "source": [
    "lip"
   ]
  },
  {
   "cell_type": "code",
   "execution_count": 3,
   "metadata": {
    "ExecuteTime": {
     "end_time": "2019-10-23T13:24:44.794022Z",
     "start_time": "2019-10-23T13:24:44.786339Z"
    }
   },
   "outputs": [
    {
     "data": {
      "text/plain": [
       "'onde_voce_deseja_morar__pode_ser_um_bairro__uma_rua_ou_um_ponto_de_referencia__escreva_livremente'"
      ]
     },
     "execution_count": 3,
     "metadata": {},
     "output_type": "execute_result"
    }
   ],
   "source": [
    "import re\n",
    "campo = 'onde_voce_deseja_morar?_pode_ser_um_bairro,_uma_rua_ou_um_ponto_de_referencia._escreva_livremente.'\n",
    "regex = re.compile('(\\w+)')\n",
    "pesquisa = '_'.join(regex.findall(campo))\n",
    "pesquisa"
   ]
  },
  {
   "cell_type": "code",
   "execution_count": null,
   "metadata": {},
   "outputs": [],
   "source": [
    "# Analisar parametros de entrada da função"
   ]
  },
  {
   "cell_type": "code",
   "execution_count": 2,
   "metadata": {
    "ExecuteTime": {
     "end_time": "2019-11-08T14:26:56.029973Z",
     "start_time": "2019-11-08T14:26:56.020864Z"
    }
   },
   "outputs": [
    {
     "data": {
      "text/plain": [
       "'hello world Douglas'"
      ]
     },
     "execution_count": 2,
     "metadata": {},
     "output_type": "execute_result"
    }
   ],
   "source": [
    "# Teste do comando await em função sincrona\n",
    "def hello_world(nome):\n",
    "    async def wrapper():\n",
    "        return f'hello world {nome}'\n",
    "    return wrapper()\n",
    "    \n",
    "await hello_world('Douglas')"
   ]
  },
  {
   "cell_type": "code",
   "execution_count": 6,
   "metadata": {
    "ExecuteTime": {
     "end_time": "2019-11-08T14:24:56.775543Z",
     "start_time": "2019-11-08T14:24:56.656916Z"
    }
   },
   "outputs": [
    {
     "name": "stdout",
     "output_type": "stream",
     "text": [
      "Python 3.6.9\r\n"
     ]
    }
   ],
   "source": [
    "! python --version"
   ]
  },
  {
   "cell_type": "code",
   "execution_count": 6,
   "metadata": {
    "ExecuteTime": {
     "end_time": "2019-11-15T00:12:15.341569Z",
     "start_time": "2019-11-15T00:12:15.332417Z"
    }
   },
   "outputs": [
    {
     "name": "stdout",
     "output_type": "stream",
     "text": [
      "Erro: Traceback (most recent call last):\n",
      "  File \"<ipython-input-6-d0a3301b34fc>\", line 13, in <module>\n",
      "    dividir('a', 1)\n",
      "  File \"<ipython-input-6-d0a3301b34fc>\", line 11, in dividir\n",
      "    return a / bin\n",
      "TypeError: unsupported operand type(s) for /: 'str' and 'builtin_function_or_method'\n",
      "\n"
     ]
    }
   ],
   "source": [
    "def trace_error() -> str:\n",
    "    import sys, traceback\n",
    "    exc_type, exc_value, exc_traceback = sys.exc_info()\n",
    "    le = traceback.format_exception(exc_type, exc_value, exc_traceback)\n",
    "    se = ''.join(le)\n",
    "    return se\n",
    "\n",
    "try:\n",
    "\n",
    "    def dividir(a, b):\n",
    "        return a / bin\n",
    "    \n",
    "    dividir('a', 1)\n",
    "\n",
    "except Exception as error:\n",
    "    \n",
    "    print('Erro:', trace_error())\n"
   ]
  },
  {
   "cell_type": "code",
   "execution_count": 2,
   "metadata": {
    "ExecuteTime": {
     "end_time": "2019-11-27T20:40:29.624263Z",
     "start_time": "2019-11-27T20:40:29.618619Z"
    }
   },
   "outputs": [
    {
     "name": "stdout",
     "output_type": "stream",
     "text": [
      "docker-compose -f graphql-server.yaml pull && docker-compose -f graphql-server.yaml up -d\n"
     ]
    }
   ],
   "source": [
    "print('docker-compose -f {0}.yaml pull && docker-compose -f {0}.yaml up -d'.format('graphql-server'))"
   ]
  },
  {
   "cell_type": "code",
   "execution_count": 7,
   "metadata": {
    "ExecuteTime": {
     "end_time": "2019-12-03T21:53:45.570641Z",
     "start_time": "2019-12-03T21:53:45.564524Z"
    }
   },
   "outputs": [],
   "source": [
    "import os\n",
    "import pandas as pd\n",
    "from pandas import DataFrame\n",
    "\n",
    "def gerar_dataframe(lista: list) -> DataFrame:\n",
    "    lista_ = lista if isinstance(lista, list) else [lista]\n",
    "    lista_dfs = [DataFrame([linha_], columns=linha_.keys()) for linha_ in lista_]\n",
    "    return pd.concat(lista_dfs, ignore_index=True, sort=False)"
   ]
  },
  {
   "cell_type": "code",
   "execution_count": 8,
   "metadata": {
    "ExecuteTime": {
     "end_time": "2019-12-03T21:53:49.606088Z",
     "start_time": "2019-12-03T21:53:49.590670Z"
    }
   },
   "outputs": [
    {
     "data": {
      "text/html": [
       "<div>\n",
       "<style scoped>\n",
       "    .dataframe tbody tr th:only-of-type {\n",
       "        vertical-align: middle;\n",
       "    }\n",
       "\n",
       "    .dataframe tbody tr th {\n",
       "        vertical-align: top;\n",
       "    }\n",
       "\n",
       "    .dataframe thead th {\n",
       "        text-align: right;\n",
       "    }\n",
       "</style>\n",
       "<table border=\"1\" class=\"dataframe\">\n",
       "  <thead>\n",
       "    <tr style=\"text-align: right;\">\n",
       "      <th></th>\n",
       "      <th>nome</th>\n",
       "      <th>idade</th>\n",
       "      <th>profissao</th>\n",
       "      <th>sexo</th>\n",
       "    </tr>\n",
       "  </thead>\n",
       "  <tbody>\n",
       "    <tr>\n",
       "      <th>0</th>\n",
       "      <td>Douglas</td>\n",
       "      <td>34</td>\n",
       "      <td>analista</td>\n",
       "      <td>NaN</td>\n",
       "    </tr>\n",
       "    <tr>\n",
       "      <th>1</th>\n",
       "      <td>Anne</td>\n",
       "      <td>26</td>\n",
       "      <td>NaN</td>\n",
       "      <td>F</td>\n",
       "    </tr>\n",
       "  </tbody>\n",
       "</table>\n",
       "</div>"
      ],
      "text/plain": [
       "      nome  idade profissao sexo\n",
       "0  Douglas     34  analista  NaN\n",
       "1     Anne     26       NaN    F"
      ]
     },
     "execution_count": 8,
     "metadata": {},
     "output_type": "execute_result"
    }
   ],
   "source": [
    "lista = [{'nome': 'Douglas', 'idade': 34, 'profissao': 'analista'}, {'nome': 'Anne', 'idade': 26, 'sexo': 'F'}]\n",
    "gerar_dataframe(lista)"
   ]
  },
  {
   "cell_type": "code",
   "execution_count": 4,
   "metadata": {
    "ExecuteTime": {
     "end_time": "2019-12-04T21:47:23.602988Z",
     "start_time": "2019-12-04T21:47:23.595970Z"
    }
   },
   "outputs": [
    {
     "name": "stdout",
     "output_type": "stream",
     "text": [
      "2019-12-04 18:47:23.598936\n",
      "2019-12-04 18:47:28.600188\n"
     ]
    }
   ],
   "source": [
    "from datetime import datetime, timedelta\n",
    "\n",
    "print(datetime.now())\n",
    "print((datetime.now() + timedelta(milliseconds=5000)))"
   ]
  },
  {
   "cell_type": "code",
   "execution_count": 1,
   "metadata": {
    "ExecuteTime": {
     "end_time": "2019-12-05T14:10:56.015914Z",
     "start_time": "2019-12-05T14:10:56.011174Z"
    }
   },
   "outputs": [
    {
     "name": "stdout",
     "output_type": "stream",
     "text": [
      "Não tem conteudo\n"
     ]
    }
   ],
   "source": [
    "lista = list()\n",
    "if lista:\n",
    "    print('Tem conteudo')\n",
    "else:\n",
    "    print('Não tem conteudo')"
   ]
  },
  {
   "cell_type": "code",
   "execution_count": 1,
   "metadata": {
    "ExecuteTime": {
     "end_time": "2019-12-09T15:38:54.271771Z",
     "start_time": "2019-12-09T15:38:54.174640Z"
    }
   },
   "outputs": [
    {
     "ename": "IndexError",
     "evalue": "pop from empty list",
     "output_type": "error",
     "traceback": [
      "\u001b[0;31m---------------------------------------------------------------------------\u001b[0m",
      "\u001b[0;31mIndexError\u001b[0m                                Traceback (most recent call last)",
      "\u001b[0;32m<ipython-input-1-ae54acba788c>\u001b[0m in \u001b[0;36m<module>\u001b[0;34m\u001b[0m\n\u001b[1;32m      1\u001b[0m \u001b[0mlista\u001b[0m \u001b[0;34m=\u001b[0m \u001b[0mlist\u001b[0m\u001b[0;34m(\u001b[0m\u001b[0;34m)\u001b[0m\u001b[0;34m\u001b[0m\u001b[0;34m\u001b[0m\u001b[0m\n\u001b[1;32m      2\u001b[0m \u001b[0;34m\u001b[0m\u001b[0m\n\u001b[0;32m----> 3\u001b[0;31m \u001b[0mprint\u001b[0m\u001b[0;34m(\u001b[0m\u001b[0mlista\u001b[0m\u001b[0;34m.\u001b[0m\u001b[0mpop\u001b[0m\u001b[0;34m(\u001b[0m\u001b[0;34m)\u001b[0m\u001b[0;34m)\u001b[0m\u001b[0;34m\u001b[0m\u001b[0;34m\u001b[0m\u001b[0m\n\u001b[0m",
      "\u001b[0;31mIndexError\u001b[0m: pop from empty list"
     ]
    }
   ],
   "source": [
    "lista = list()\n",
    "\n",
    "print(lista.pop())"
   ]
  }
 ],
 "metadata": {
  "hide_input": false,
  "kernelspec": {
   "display_name": "Python 3",
   "language": "python",
   "name": "python3"
  },
  "language_info": {
   "codemirror_mode": {
    "name": "ipython",
    "version": 3
   },
   "file_extension": ".py",
   "mimetype": "text/x-python",
   "name": "python",
   "nbconvert_exporter": "python",
   "pygments_lexer": "ipython3",
   "version": "3.8.0"
  },
  "toc": {
   "base_numbering": 1,
   "nav_menu": {},
   "number_sections": true,
   "sideBar": true,
   "skip_h1_title": false,
   "title_cell": "Table of Contents",
   "title_sidebar": "Contents",
   "toc_cell": false,
   "toc_position": {},
   "toc_section_display": true,
   "toc_window_display": false
  },
  "varInspector": {
   "cols": {
    "lenName": 16,
    "lenType": 16,
    "lenVar": 40
   },
   "kernels_config": {
    "python": {
     "delete_cmd_postfix": "",
     "delete_cmd_prefix": "del ",
     "library": "var_list.py",
     "varRefreshCmd": "print(var_dic_list())"
    },
    "r": {
     "delete_cmd_postfix": ") ",
     "delete_cmd_prefix": "rm(",
     "library": "var_list.r",
     "varRefreshCmd": "cat(var_dic_list()) "
    }
   },
   "types_to_exclude": [
    "module",
    "function",
    "builtin_function_or_method",
    "instance",
    "_Feature"
   ],
   "window_display": false
  }
 },
 "nbformat": 4,
 "nbformat_minor": 2
}
